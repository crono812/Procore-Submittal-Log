{
 "cells": [
  {
   "cell_type": "code",
   "execution_count": 1,
   "id": "00bb6765",
   "metadata": {},
   "outputs": [],
   "source": [
    "import pandas as pd\n",
    "import numpy as np\n",
    "import datetime\n",
    "import os\n",
    "import procore_formatter\n",
    "import excel_creator\n",
    "import metrics"
   ]
  },
  {
   "cell_type": "code",
   "execution_count": 2,
   "id": "ed69750d",
   "metadata": {},
   "outputs": [],
   "source": [
    "raw = pd.read_csv('submittal_logs.csv')\n",
    "df = procore_formatter.formatter(raw)"
   ]
  },
  {
   "cell_type": "code",
   "execution_count": 3,
   "id": "cf5f0512",
   "metadata": {},
   "outputs": [],
   "source": [
    "today = datetime.datetime.today()\n",
    "date_folder = today.strftime(\"%Y-%m-%d\")\n",
    "directory =f'{date_folder} CIL Logs'\n",
    "if not os.path.exists(directory):\n",
    "    os.mkdir(directory)"
   ]
  },
  {
   "cell_type": "code",
   "execution_count": 4,
   "id": "c956f74a",
   "metadata": {},
   "outputs": [],
   "source": [
    "def engineer(contractor):\n",
    "\n",
    "    engineers = {\n",
    "        'Ronny F' : ['Fred Geller Electric', \n",
    "                       'Corporate Electric',\n",
    "                       'Societe International de Telecommunications Aeronautiques',\n",
    "                       'Boingo Wireless',\n",
    "                       'Schneider Electric',\n",
    "                       'SITA',\n",
    "                       'Iconics'],\n",
    "\n",
    "        'Paul M' : ['B&G Electric',\n",
    "                       'E-J Electric Installation Co.'],\n",
    "\n",
    "        'Andy K' : ['FCS Group',\n",
    "                       'Cassone Leasing, Inc.',\n",
    "                       'JC Elite Construction',\n",
    "                       'Lafayette Glass',\n",
    "                       'Component Assembly Systems',\n",
    "                       'Consolidated Carpet Trade Workroom',\n",
    "                       'Garcia Marble and Tile',\n",
    "                       'McKeon Door East'],\n",
    "\n",
    "        'Nancy A' : ['Center Sheet Metal',\n",
    "                        'PJ Mechanical LLC.',\n",
    "                        'Olympic Plumbing And Heating Services Inc.',\n",
    "                        'Rael Automatic Sprinkler'\n",
    "                        ],\n",
    "\n",
    "        'Alexandra H' : ['Schindler Elevator Corp.',\n",
    "                            'Monpat Construction Inc.',\n",
    "                            'Aero Bridge Works',\n",
    "                            'John Bean Technologies Corporation',\n",
    "                            'ILC Dover',\n",
    "                            'W&W Glass, LLC.',\n",
    "                            'Commodore Construction Corp.',\n",
    "                            'Island International Enterprises',\n",
    "                            'Yorie Tile & Terrazzo'\n",
    "                            ],\n",
    "\n",
    "        'Rebecca J' : ['Curtis Partition Corp.',\n",
    "                         'Long Island Concrete',\n",
    "                         'Post Road Iron Works Inc.',\n",
    "                         'Long Island Concrete',\n",
    "                         'Going Sign & Servicing Co. Inc.',\n",
    "                         'Architectural Casework, Inc.'\n",
    "                            ],\n",
    "        'Andre F' : ['Peter Scalamandre & Sons Inc',\n",
    "                     'Owen Steel Company, Inc.',\n",
    "                     'Falco Construction Corp.'\n",
    "                  ]\n",
    "    }\n",
    "    \n",
    "    for key, value in engineers.items():\n",
    "        if contractor == value:\n",
    "            return key\n",
    "        \n",
    "        elif isinstance(value, list) and contractor in value:\n",
    "            return key\n",
    "        \n",
    "    return 'Miscellaneous'"
   ]
  },
  {
   "cell_type": "code",
   "execution_count": 5,
   "id": "28db2e7e",
   "metadata": {},
   "outputs": [],
   "source": [
    "def trade(contractor):\n",
    "\n",
    "    trade = {\n",
    "        'Fred Geller Electric' : 'Low Voltage', \n",
    "        'Corporate Electric' : 'Fire Alarm Public Address',\n",
    "        'Societe International de Telecommunications Aeronautiques' : 'SITA',\n",
    "        'Boingo Wireless' : 'BOINGO',\n",
    "        'Schneider Electric' : 'BMS',\n",
    "        'SITA' : 'SITA',\n",
    "        'Iconics' : 'Iconics',\n",
    "        'B&G Electric' : 'ELEC FO',\n",
    "        'E-J Electric Installation Co.' : 'ELEC PD',\n",
    "        'FCS Group' : 'Painting',\n",
    "        'Cassone Leasing, Inc.' : 'CCF Connector',\n",
    "        'JC Elite Construction' : 'CCD Connector',\n",
    "        'Lafayette Glass' : 'Ornamental Metal',\n",
    "        'Component Assembly Systems' : 'Carpenter',\n",
    "        'Consolidated Carpet Trade Workroom' : 'Carpet',\n",
    "        'Garcia Marble and Tile' : 'Tile',\n",
    "        'McKeon Door East' : 'Coiling Door',\n",
    "        'Center Sheet Metal' : 'HVAC Air',\n",
    "        'PJ Mechanical LLC.' : 'HVAC Wet',\n",
    "        'Olympic Plumbing And Heating Services Inc.' : 'Plumbing',\n",
    "        'Rael Automatic Sprinkler' : 'Sprinkler',\n",
    "        'Schindler Elevator Corp.' : 'Vert Transport',\n",
    "        'Monpat Construction Inc.' : 'Roofing',\n",
    "        'Aero Bridge Works' : 'Aero',\n",
    "        'John Bean Technologies Corporation' : 'Jetbridge',\n",
    "        'ILC Dover' : 'Flood Barrier',\n",
    "        'W&W Glass, LLC.' : 'Curtainwall',\n",
    "        'Commodore Construction Corp.' : 'Concrete',\n",
    "        'Island International Enterprises' : 'SOFP',\n",
    "        'Yorie Tile & Terrazzo' : 'Terrazo',\n",
    "        'Curtis Partition Corp.' : 'Toilet Accessories',\n",
    "        'Long Island Concrete' : 'Masonry',\n",
    "        'Post Road Iron Works Inc.' : 'Misc Metal',\n",
    "        'Long Island Concrete' : 'Masonry',\n",
    "        'Going Sign & Servicing Co. Inc.' : 'Signage',\n",
    "        'Architectural Casework, Inc.' : 'Furniture',\n",
    "        'Peter Scalamandre & Sons Inc' : 'Foundations',\n",
    "        'Owen Steel Company, Inc.' : 'Steel',\n",
    "        'Falco Construction Corp.' : 'Piles',\n",
    "        'Delta CMT' : 'Delta CMT',\n",
    "        'Skyline Steel LLC' : 'Skyline Steel',\n",
    "        'Skyline Steel Corp.' : 'Skyline Steel 1',\n",
    "        'STV S&P, JV' : 'STV', \n",
    "        'NYCO Environmental' : 'NYCO',\n",
    "        'Foundation Engineering Services, D.P.C.' : 'Foundations Eng.',\n",
    "        'Infax' : 'Restroom Monitoring',\n",
    "        'Turner Construction' : 'CMT', \n",
    "        'nan' : 'Misc.', \n",
    "        'Kusch + Co' : 'Seating', \n",
    "        'Image Manufacturing Group' : 'Kiosks', \n",
    "        'Office Images' : 'Office Furnishing', \n",
    "        'Flockheart' : 'Holdroom Seats',\n",
    "        'Nanolumens' : 'Wayfinding', \n",
    "        'Contractor' : 'Misc. 2'\n",
    "    }\n",
    "    \n",
    "    for key, value in trade.items():\n",
    "        if contractor == key:\n",
    "            return value\n",
    "        \n",
    "    return 'Misc. '"
   ]
  },
  {
   "cell_type": "code",
   "execution_count": 6,
   "id": "6c58a1b2",
   "metadata": {},
   "outputs": [],
   "source": [
    "df['Responsible Contractor'] = df['Responsible Contractor'].str.replace('/', ' ')\n",
    "contractors = df['Responsible Contractor'].unique()"
   ]
  },
  {
   "cell_type": "code",
   "execution_count": 7,
   "id": "4453e723",
   "metadata": {},
   "outputs": [],
   "source": [
    "closeout = ['As-Built',\n",
    "           'Attic Stock',\n",
    "           'Certificate of Substantial Completion',\n",
    "           'Certificate of Final Completion',\n",
    "           'Closeouts',\n",
    "           'O&M Manual',\n",
    "           'Product Manual',\n",
    "           'Record Documents',\n",
    "           'Spare Parts List',\n",
    "           'Training Material',\n",
    "           'Warranty / Guarantee']\n",
    "\n",
    "types = df['Description'].unique()\n",
    "not_closeout = [x for x in types if x not in closeout]\n",
    "\n",
    "default_font = 'Calibri'"
   ]
  },
  {
   "cell_type": "code",
   "execution_count": 8,
   "id": "e46cd6cf",
   "metadata": {},
   "outputs": [],
   "source": [
    "i = 1\n",
    "data = df\n",
    "name = \"Master\"\n",
    "\n",
    "name_directory = directory + f'/{name}'\n",
    "if not os.path.exists(name_directory):\n",
    "    os.mkdir(name_directory)\n",
    "\n",
    "writer = pd.ExcelWriter(f'{name_directory}/Master CIL Log {date_folder}.xlsx', \n",
    "                    engine = 'xlsxwriter',\n",
    "                    date_format = 'mm-dd-yyyy', \n",
    "                    datetime_format='mm-dd-yyyy')\n",
    "workbook = writer.book\n",
    "\n",
    "data.to_excel(writer,\n",
    "             sheet_name = 'Submittals Master Log',\n",
    "             index = False,\n",
    "             startrow = 8)\n",
    "submittal_log = writer.sheets['Submittals Master Log']\n",
    "excel_creator.generate_worksheet(data, name, contractors[i], workbook, submittal_log)\n",
    "\n",
    "number_total_format = workbook.add_format({\n",
    "'bold' : True,\n",
    "'font_color' : 'black', \n",
    "'font_size' : 11,\n",
    "'font_name' : default_font, \n",
    "'align' : 'center',\n",
    "'valign' : 'vcenter', \n",
    "'border' : 1,\n",
    "'num_format' : '#,##0'\n",
    "})\n",
    "\n",
    "percent_format = workbook.add_format({\n",
    "    'bold' : False,\n",
    "    'font_color' : 'black', \n",
    "    'font_size' : 11,\n",
    "    'font_name' : default_font, \n",
    "    'align' : 'center',\n",
    "    'valign' : 'vcenter', \n",
    "    'border' : 1,\n",
    "    'num_format' : '0.00%'\n",
    "})\n",
    "\n",
    "submittal_log.write('J1', 'North #')\n",
    "submittal_log.write('K1', 'North %')\n",
    "submittal_log.write('L1', 'South #')\n",
    "submittal_log.write('M1', 'South %')\n",
    "submittal_log.write('I2', 'Total')\n",
    "submittal_log.write('I3', 'Open')\n",
    "submittal_log.write('I4', 'Closeout')\n",
    "submittal_log.write('I5', 'Design Team')\n",
    "submittal_log.write('I6', 'R&R')\n",
    "submittal_log.write('I7', 'R&R LEED')\n",
    "submittal_log.write('I8', 'Closed')\n",
    "\n",
    "north_metrics = metrics.metrics(data, ['N', 'N/S'])\n",
    "total = 0\n",
    "for key in north_metrics:\n",
    "    total = total + north_metrics[key][1]\n",
    "\n",
    "submittal_log.write('J2', total, number_total_format)\n",
    "if total == 0:\n",
    "    total = 1 \n",
    "\n",
    "row = 2\n",
    "for key in north_metrics:\n",
    "    submittal_log.write(row, 9, north_metrics[key][1], number_total_format)\n",
    "    submittal_log.write(row, 10, north_metrics[key][1]/total, percent_format)\n",
    "    row = row + 1\n",
    "\n",
    "\n",
    "south_metrics = metrics.metrics(data, ['S'])\n",
    "total = 0\n",
    "for key in south_metrics:\n",
    "    total = total + south_metrics[key][1]\n",
    "\n",
    "\n",
    "submittal_log.write('L2', total, number_total_format)\n",
    "if total == 0:\n",
    "    total = 1  \n",
    "\n",
    "row = 2\n",
    "for key in south_metrics:\n",
    "    submittal_log.write(row, 11, south_metrics[key][1], number_total_format)\n",
    "    submittal_log.write(row, 12, south_metrics[key][1]/total, percent_format)\n",
    "    row = row + 1"
   ]
  },
  {
   "cell_type": "code",
   "execution_count": 9,
   "id": "ca8b9c7e",
   "metadata": {},
   "outputs": [
    {
     "name": "stderr",
     "output_type": "stream",
     "text": [
      "C:\\Users\\kfong\\Programs\\Submittal Log\\Personal Submittal Log V2\\metrics.py:26: SettingWithCopyWarning: \n",
      "A value is trying to be set on a copy of a slice from a DataFrame.\n",
      "Try using .loc[row_indexer,col_indexer] = value instead\n",
      "\n",
      "See the caveats in the documentation: https://pandas.pydata.org/pandas-docs/stable/user_guide/indexing.html#returning-a-view-versus-a-copy\n",
      "  df['Type'] = df['Description']\n",
      "C:\\Users\\kfong\\Programs\\Submittal Log\\Personal Submittal Log V2\\metrics.py:27: SettingWithCopyWarning: \n",
      "A value is trying to be set on a copy of a slice from a DataFrame.\n",
      "Try using .loc[row_indexer,col_indexer] = value instead\n",
      "\n",
      "See the caveats in the documentation: https://pandas.pydata.org/pandas-docs/stable/user_guide/indexing.html#returning-a-view-versus-a-copy\n",
      "  df['Location'] = df['Phase']\n",
      "C:\\Users\\kfong\\Programs\\Submittal Log\\Personal Submittal Log V2\\metrics.py:26: SettingWithCopyWarning: \n",
      "A value is trying to be set on a copy of a slice from a DataFrame.\n",
      "Try using .loc[row_indexer,col_indexer] = value instead\n",
      "\n",
      "See the caveats in the documentation: https://pandas.pydata.org/pandas-docs/stable/user_guide/indexing.html#returning-a-view-versus-a-copy\n",
      "  df['Type'] = df['Description']\n"
     ]
    },
    {
     "name": "stdout",
     "output_type": "stream",
     "text": [
      "Aero Bridge Works\n",
      "Schindler Elevator Corp.\n"
     ]
    },
    {
     "name": "stderr",
     "output_type": "stream",
     "text": [
      "C:\\Users\\kfong\\Programs\\Submittal Log\\Personal Submittal Log V2\\metrics.py:27: SettingWithCopyWarning: \n",
      "A value is trying to be set on a copy of a slice from a DataFrame.\n",
      "Try using .loc[row_indexer,col_indexer] = value instead\n",
      "\n",
      "See the caveats in the documentation: https://pandas.pydata.org/pandas-docs/stable/user_guide/indexing.html#returning-a-view-versus-a-copy\n",
      "  df['Location'] = df['Phase']\n",
      "C:\\Users\\kfong\\Programs\\Submittal Log\\Personal Submittal Log V2\\metrics.py:26: SettingWithCopyWarning: \n",
      "A value is trying to be set on a copy of a slice from a DataFrame.\n",
      "Try using .loc[row_indexer,col_indexer] = value instead\n",
      "\n",
      "See the caveats in the documentation: https://pandas.pydata.org/pandas-docs/stable/user_guide/indexing.html#returning-a-view-versus-a-copy\n",
      "  df['Type'] = df['Description']\n",
      "C:\\Users\\kfong\\Programs\\Submittal Log\\Personal Submittal Log V2\\metrics.py:27: SettingWithCopyWarning: \n",
      "A value is trying to be set on a copy of a slice from a DataFrame.\n",
      "Try using .loc[row_indexer,col_indexer] = value instead\n",
      "\n",
      "See the caveats in the documentation: https://pandas.pydata.org/pandas-docs/stable/user_guide/indexing.html#returning-a-view-versus-a-copy\n",
      "  df['Location'] = df['Phase']\n"
     ]
    },
    {
     "name": "stdout",
     "output_type": "stream",
     "text": [
      "Island International Enterprises\n",
      "Monpat Construction Inc.\n"
     ]
    },
    {
     "name": "stderr",
     "output_type": "stream",
     "text": [
      "C:\\Users\\kfong\\Programs\\Submittal Log\\Personal Submittal Log V2\\metrics.py:26: SettingWithCopyWarning: \n",
      "A value is trying to be set on a copy of a slice from a DataFrame.\n",
      "Try using .loc[row_indexer,col_indexer] = value instead\n",
      "\n",
      "See the caveats in the documentation: https://pandas.pydata.org/pandas-docs/stable/user_guide/indexing.html#returning-a-view-versus-a-copy\n",
      "  df['Type'] = df['Description']\n",
      "C:\\Users\\kfong\\Programs\\Submittal Log\\Personal Submittal Log V2\\metrics.py:27: SettingWithCopyWarning: \n",
      "A value is trying to be set on a copy of a slice from a DataFrame.\n",
      "Try using .loc[row_indexer,col_indexer] = value instead\n",
      "\n",
      "See the caveats in the documentation: https://pandas.pydata.org/pandas-docs/stable/user_guide/indexing.html#returning-a-view-versus-a-copy\n",
      "  df['Location'] = df['Phase']\n",
      "C:\\Users\\kfong\\Programs\\Submittal Log\\Personal Submittal Log V2\\metrics.py:26: SettingWithCopyWarning: \n",
      "A value is trying to be set on a copy of a slice from a DataFrame.\n",
      "Try using .loc[row_indexer,col_indexer] = value instead\n",
      "\n",
      "See the caveats in the documentation: https://pandas.pydata.org/pandas-docs/stable/user_guide/indexing.html#returning-a-view-versus-a-copy\n",
      "  df['Type'] = df['Description']\n",
      "C:\\Users\\kfong\\Programs\\Submittal Log\\Personal Submittal Log V2\\metrics.py:27: SettingWithCopyWarning: \n",
      "A value is trying to be set on a copy of a slice from a DataFrame.\n",
      "Try using .loc[row_indexer,col_indexer] = value instead\n",
      "\n",
      "See the caveats in the documentation: https://pandas.pydata.org/pandas-docs/stable/user_guide/indexing.html#returning-a-view-versus-a-copy\n",
      "  df['Location'] = df['Phase']\n",
      "C:\\Users\\kfong\\Programs\\Submittal Log\\Personal Submittal Log V2\\metrics.py:26: SettingWithCopyWarning: \n",
      "A value is trying to be set on a copy of a slice from a DataFrame.\n",
      "Try using .loc[row_indexer,col_indexer] = value instead\n",
      "\n",
      "See the caveats in the documentation: https://pandas.pydata.org/pandas-docs/stable/user_guide/indexing.html#returning-a-view-versus-a-copy\n",
      "  df['Type'] = df['Description']\n",
      "C:\\Users\\kfong\\Programs\\Submittal Log\\Personal Submittal Log V2\\metrics.py:27: SettingWithCopyWarning: \n",
      "A value is trying to be set on a copy of a slice from a DataFrame.\n",
      "Try using .loc[row_indexer,col_indexer] = value instead\n",
      "\n",
      "See the caveats in the documentation: https://pandas.pydata.org/pandas-docs/stable/user_guide/indexing.html#returning-a-view-versus-a-copy\n",
      "  df['Location'] = df['Phase']\n"
     ]
    },
    {
     "name": "stdout",
     "output_type": "stream",
     "text": [
      "Yorie Tile & Terrazzo\n",
      "John Bean Technologies Corporation\n"
     ]
    },
    {
     "name": "stderr",
     "output_type": "stream",
     "text": [
      "C:\\Users\\kfong\\Programs\\Submittal Log\\Personal Submittal Log V2\\metrics.py:26: SettingWithCopyWarning: \n",
      "A value is trying to be set on a copy of a slice from a DataFrame.\n",
      "Try using .loc[row_indexer,col_indexer] = value instead\n",
      "\n",
      "See the caveats in the documentation: https://pandas.pydata.org/pandas-docs/stable/user_guide/indexing.html#returning-a-view-versus-a-copy\n",
      "  df['Type'] = df['Description']\n",
      "C:\\Users\\kfong\\Programs\\Submittal Log\\Personal Submittal Log V2\\metrics.py:27: SettingWithCopyWarning: \n",
      "A value is trying to be set on a copy of a slice from a DataFrame.\n",
      "Try using .loc[row_indexer,col_indexer] = value instead\n",
      "\n",
      "See the caveats in the documentation: https://pandas.pydata.org/pandas-docs/stable/user_guide/indexing.html#returning-a-view-versus-a-copy\n",
      "  df['Location'] = df['Phase']\n"
     ]
    },
    {
     "name": "stdout",
     "output_type": "stream",
     "text": [
      "W&W Glass, LLC.\n",
      "nan\n"
     ]
    },
    {
     "name": "stderr",
     "output_type": "stream",
     "text": [
      "C:\\Users\\kfong\\Programs\\Submittal Log\\Personal Submittal Log V2\\metrics.py:26: SettingWithCopyWarning: \n",
      "A value is trying to be set on a copy of a slice from a DataFrame.\n",
      "Try using .loc[row_indexer,col_indexer] = value instead\n",
      "\n",
      "See the caveats in the documentation: https://pandas.pydata.org/pandas-docs/stable/user_guide/indexing.html#returning-a-view-versus-a-copy\n",
      "  df['Type'] = df['Description']\n",
      "C:\\Users\\kfong\\Programs\\Submittal Log\\Personal Submittal Log V2\\metrics.py:27: SettingWithCopyWarning: \n",
      "A value is trying to be set on a copy of a slice from a DataFrame.\n",
      "Try using .loc[row_indexer,col_indexer] = value instead\n",
      "\n",
      "See the caveats in the documentation: https://pandas.pydata.org/pandas-docs/stable/user_guide/indexing.html#returning-a-view-versus-a-copy\n",
      "  df['Location'] = df['Phase']\n"
     ]
    },
    {
     "name": "stdout",
     "output_type": "stream",
     "text": [
      "E-J Electric Installation Co.\n"
     ]
    },
    {
     "name": "stderr",
     "output_type": "stream",
     "text": [
      "C:\\Users\\kfong\\Programs\\Submittal Log\\Personal Submittal Log V2\\metrics.py:26: SettingWithCopyWarning: \n",
      "A value is trying to be set on a copy of a slice from a DataFrame.\n",
      "Try using .loc[row_indexer,col_indexer] = value instead\n",
      "\n",
      "See the caveats in the documentation: https://pandas.pydata.org/pandas-docs/stable/user_guide/indexing.html#returning-a-view-versus-a-copy\n",
      "  df['Type'] = df['Description']\n",
      "C:\\Users\\kfong\\Programs\\Submittal Log\\Personal Submittal Log V2\\metrics.py:27: SettingWithCopyWarning: \n",
      "A value is trying to be set on a copy of a slice from a DataFrame.\n",
      "Try using .loc[row_indexer,col_indexer] = value instead\n",
      "\n",
      "See the caveats in the documentation: https://pandas.pydata.org/pandas-docs/stable/user_guide/indexing.html#returning-a-view-versus-a-copy\n",
      "  df['Location'] = df['Phase']\n"
     ]
    },
    {
     "name": "stdout",
     "output_type": "stream",
     "text": [
      "B&G Electric\n"
     ]
    },
    {
     "name": "stderr",
     "output_type": "stream",
     "text": [
      "C:\\Users\\kfong\\Programs\\Submittal Log\\Personal Submittal Log V2\\metrics.py:26: SettingWithCopyWarning: \n",
      "A value is trying to be set on a copy of a slice from a DataFrame.\n",
      "Try using .loc[row_indexer,col_indexer] = value instead\n",
      "\n",
      "See the caveats in the documentation: https://pandas.pydata.org/pandas-docs/stable/user_guide/indexing.html#returning-a-view-versus-a-copy\n",
      "  df['Type'] = df['Description']\n",
      "C:\\Users\\kfong\\Programs\\Submittal Log\\Personal Submittal Log V2\\metrics.py:27: SettingWithCopyWarning: \n",
      "A value is trying to be set on a copy of a slice from a DataFrame.\n",
      "Try using .loc[row_indexer,col_indexer] = value instead\n",
      "\n",
      "See the caveats in the documentation: https://pandas.pydata.org/pandas-docs/stable/user_guide/indexing.html#returning-a-view-versus-a-copy\n",
      "  df['Location'] = df['Phase']\n"
     ]
    },
    {
     "name": "stdout",
     "output_type": "stream",
     "text": [
      "Lafayette Glass\n"
     ]
    },
    {
     "name": "stderr",
     "output_type": "stream",
     "text": [
      "C:\\Users\\kfong\\Programs\\Submittal Log\\Personal Submittal Log V2\\metrics.py:26: SettingWithCopyWarning: \n",
      "A value is trying to be set on a copy of a slice from a DataFrame.\n",
      "Try using .loc[row_indexer,col_indexer] = value instead\n",
      "\n",
      "See the caveats in the documentation: https://pandas.pydata.org/pandas-docs/stable/user_guide/indexing.html#returning-a-view-versus-a-copy\n",
      "  df['Type'] = df['Description']\n",
      "C:\\Users\\kfong\\Programs\\Submittal Log\\Personal Submittal Log V2\\metrics.py:27: SettingWithCopyWarning: \n",
      "A value is trying to be set on a copy of a slice from a DataFrame.\n",
      "Try using .loc[row_indexer,col_indexer] = value instead\n",
      "\n",
      "See the caveats in the documentation: https://pandas.pydata.org/pandas-docs/stable/user_guide/indexing.html#returning-a-view-versus-a-copy\n",
      "  df['Location'] = df['Phase']\n"
     ]
    },
    {
     "name": "stdout",
     "output_type": "stream",
     "text": [
      "Garcia Marble and Tile\n",
      "Curtis Partition Corp.\n"
     ]
    },
    {
     "name": "stderr",
     "output_type": "stream",
     "text": [
      "C:\\Users\\kfong\\Programs\\Submittal Log\\Personal Submittal Log V2\\metrics.py:26: SettingWithCopyWarning: \n",
      "A value is trying to be set on a copy of a slice from a DataFrame.\n",
      "Try using .loc[row_indexer,col_indexer] = value instead\n",
      "\n",
      "See the caveats in the documentation: https://pandas.pydata.org/pandas-docs/stable/user_guide/indexing.html#returning-a-view-versus-a-copy\n",
      "  df['Type'] = df['Description']\n",
      "C:\\Users\\kfong\\Programs\\Submittal Log\\Personal Submittal Log V2\\metrics.py:27: SettingWithCopyWarning: \n",
      "A value is trying to be set on a copy of a slice from a DataFrame.\n",
      "Try using .loc[row_indexer,col_indexer] = value instead\n",
      "\n",
      "See the caveats in the documentation: https://pandas.pydata.org/pandas-docs/stable/user_guide/indexing.html#returning-a-view-versus-a-copy\n",
      "  df['Location'] = df['Phase']\n",
      "C:\\Users\\kfong\\Programs\\Submittal Log\\Personal Submittal Log V2\\metrics.py:26: SettingWithCopyWarning: \n",
      "A value is trying to be set on a copy of a slice from a DataFrame.\n",
      "Try using .loc[row_indexer,col_indexer] = value instead\n",
      "\n",
      "See the caveats in the documentation: https://pandas.pydata.org/pandas-docs/stable/user_guide/indexing.html#returning-a-view-versus-a-copy\n",
      "  df['Type'] = df['Description']\n",
      "C:\\Users\\kfong\\Programs\\Submittal Log\\Personal Submittal Log V2\\metrics.py:27: SettingWithCopyWarning: \n",
      "A value is trying to be set on a copy of a slice from a DataFrame.\n",
      "Try using .loc[row_indexer,col_indexer] = value instead\n",
      "\n",
      "See the caveats in the documentation: https://pandas.pydata.org/pandas-docs/stable/user_guide/indexing.html#returning-a-view-versus-a-copy\n",
      "  df['Location'] = df['Phase']\n"
     ]
    },
    {
     "name": "stdout",
     "output_type": "stream",
     "text": [
      "Consolidated Carpet Trade Workroom\n"
     ]
    },
    {
     "name": "stderr",
     "output_type": "stream",
     "text": [
      "C:\\Users\\kfong\\Programs\\Submittal Log\\Personal Submittal Log V2\\metrics.py:26: SettingWithCopyWarning: \n",
      "A value is trying to be set on a copy of a slice from a DataFrame.\n",
      "Try using .loc[row_indexer,col_indexer] = value instead\n",
      "\n",
      "See the caveats in the documentation: https://pandas.pydata.org/pandas-docs/stable/user_guide/indexing.html#returning-a-view-versus-a-copy\n",
      "  df['Type'] = df['Description']\n",
      "C:\\Users\\kfong\\Programs\\Submittal Log\\Personal Submittal Log V2\\metrics.py:27: SettingWithCopyWarning: \n",
      "A value is trying to be set on a copy of a slice from a DataFrame.\n",
      "Try using .loc[row_indexer,col_indexer] = value instead\n",
      "\n",
      "See the caveats in the documentation: https://pandas.pydata.org/pandas-docs/stable/user_guide/indexing.html#returning-a-view-versus-a-copy\n",
      "  df['Location'] = df['Phase']\n",
      "C:\\Users\\kfong\\Programs\\Submittal Log\\Personal Submittal Log V2\\metrics.py:26: SettingWithCopyWarning: \n",
      "A value is trying to be set on a copy of a slice from a DataFrame.\n",
      "Try using .loc[row_indexer,col_indexer] = value instead\n",
      "\n",
      "See the caveats in the documentation: https://pandas.pydata.org/pandas-docs/stable/user_guide/indexing.html#returning-a-view-versus-a-copy\n",
      "  df['Type'] = df['Description']\n",
      "C:\\Users\\kfong\\Programs\\Submittal Log\\Personal Submittal Log V2\\metrics.py:27: SettingWithCopyWarning: \n",
      "A value is trying to be set on a copy of a slice from a DataFrame.\n",
      "Try using .loc[row_indexer,col_indexer] = value instead\n",
      "\n",
      "See the caveats in the documentation: https://pandas.pydata.org/pandas-docs/stable/user_guide/indexing.html#returning-a-view-versus-a-copy\n",
      "  df['Location'] = df['Phase']\n",
      "C:\\Users\\kfong\\Programs\\Submittal Log\\Personal Submittal Log V2\\metrics.py:26: SettingWithCopyWarning: \n",
      "A value is trying to be set on a copy of a slice from a DataFrame.\n",
      "Try using .loc[row_indexer,col_indexer] = value instead\n",
      "\n",
      "See the caveats in the documentation: https://pandas.pydata.org/pandas-docs/stable/user_guide/indexing.html#returning-a-view-versus-a-copy\n",
      "  df['Type'] = df['Description']\n",
      "C:\\Users\\kfong\\Programs\\Submittal Log\\Personal Submittal Log V2\\metrics.py:27: SettingWithCopyWarning: \n",
      "A value is trying to be set on a copy of a slice from a DataFrame.\n",
      "Try using .loc[row_indexer,col_indexer] = value instead\n",
      "\n",
      "See the caveats in the documentation: https://pandas.pydata.org/pandas-docs/stable/user_guide/indexing.html#returning-a-view-versus-a-copy\n",
      "  df['Location'] = df['Phase']\n"
     ]
    },
    {
     "name": "stdout",
     "output_type": "stream",
     "text": [
      "Long Island Concrete\n",
      "Flockheart\n",
      "Architectural Casework, Inc.\n"
     ]
    },
    {
     "name": "stderr",
     "output_type": "stream",
     "text": [
      "C:\\Users\\kfong\\Programs\\Submittal Log\\Personal Submittal Log V2\\metrics.py:26: SettingWithCopyWarning: \n",
      "A value is trying to be set on a copy of a slice from a DataFrame.\n",
      "Try using .loc[row_indexer,col_indexer] = value instead\n",
      "\n",
      "See the caveats in the documentation: https://pandas.pydata.org/pandas-docs/stable/user_guide/indexing.html#returning-a-view-versus-a-copy\n",
      "  df['Type'] = df['Description']\n",
      "C:\\Users\\kfong\\Programs\\Submittal Log\\Personal Submittal Log V2\\metrics.py:27: SettingWithCopyWarning: \n",
      "A value is trying to be set on a copy of a slice from a DataFrame.\n",
      "Try using .loc[row_indexer,col_indexer] = value instead\n",
      "\n",
      "See the caveats in the documentation: https://pandas.pydata.org/pandas-docs/stable/user_guide/indexing.html#returning-a-view-versus-a-copy\n",
      "  df['Location'] = df['Phase']\n",
      "C:\\Users\\kfong\\Programs\\Submittal Log\\Personal Submittal Log V2\\metrics.py:26: SettingWithCopyWarning: \n",
      "A value is trying to be set on a copy of a slice from a DataFrame.\n",
      "Try using .loc[row_indexer,col_indexer] = value instead\n",
      "\n",
      "See the caveats in the documentation: https://pandas.pydata.org/pandas-docs/stable/user_guide/indexing.html#returning-a-view-versus-a-copy\n",
      "  df['Type'] = df['Description']\n"
     ]
    },
    {
     "name": "stdout",
     "output_type": "stream",
     "text": [
      "Going Sign & Servicing Co. Inc.\n",
      "Kusch + Co\n"
     ]
    },
    {
     "name": "stderr",
     "output_type": "stream",
     "text": [
      "C:\\Users\\kfong\\Programs\\Submittal Log\\Personal Submittal Log V2\\metrics.py:27: SettingWithCopyWarning: \n",
      "A value is trying to be set on a copy of a slice from a DataFrame.\n",
      "Try using .loc[row_indexer,col_indexer] = value instead\n",
      "\n",
      "See the caveats in the documentation: https://pandas.pydata.org/pandas-docs/stable/user_guide/indexing.html#returning-a-view-versus-a-copy\n",
      "  df['Location'] = df['Phase']\n",
      "C:\\Users\\kfong\\Programs\\Submittal Log\\Personal Submittal Log V2\\metrics.py:26: SettingWithCopyWarning: \n",
      "A value is trying to be set on a copy of a slice from a DataFrame.\n",
      "Try using .loc[row_indexer,col_indexer] = value instead\n",
      "\n",
      "See the caveats in the documentation: https://pandas.pydata.org/pandas-docs/stable/user_guide/indexing.html#returning-a-view-versus-a-copy\n",
      "  df['Type'] = df['Description']\n",
      "C:\\Users\\kfong\\Programs\\Submittal Log\\Personal Submittal Log V2\\metrics.py:27: SettingWithCopyWarning: \n",
      "A value is trying to be set on a copy of a slice from a DataFrame.\n",
      "Try using .loc[row_indexer,col_indexer] = value instead\n",
      "\n",
      "See the caveats in the documentation: https://pandas.pydata.org/pandas-docs/stable/user_guide/indexing.html#returning-a-view-versus-a-copy\n",
      "  df['Location'] = df['Phase']\n",
      "C:\\Users\\kfong\\Programs\\Submittal Log\\Personal Submittal Log V2\\metrics.py:26: SettingWithCopyWarning: \n",
      "A value is trying to be set on a copy of a slice from a DataFrame.\n",
      "Try using .loc[row_indexer,col_indexer] = value instead\n",
      "\n",
      "See the caveats in the documentation: https://pandas.pydata.org/pandas-docs/stable/user_guide/indexing.html#returning-a-view-versus-a-copy\n",
      "  df['Type'] = df['Description']\n"
     ]
    },
    {
     "name": "stdout",
     "output_type": "stream",
     "text": [
      "ILC Dover\n"
     ]
    },
    {
     "name": "stderr",
     "output_type": "stream",
     "text": [
      "C:\\Users\\kfong\\Programs\\Submittal Log\\Personal Submittal Log V2\\metrics.py:27: SettingWithCopyWarning: \n",
      "A value is trying to be set on a copy of a slice from a DataFrame.\n",
      "Try using .loc[row_indexer,col_indexer] = value instead\n",
      "\n",
      "See the caveats in the documentation: https://pandas.pydata.org/pandas-docs/stable/user_guide/indexing.html#returning-a-view-versus-a-copy\n",
      "  df['Location'] = df['Phase']\n"
     ]
    },
    {
     "name": "stdout",
     "output_type": "stream",
     "text": [
      "Commodore Construction Corp.\n"
     ]
    },
    {
     "name": "stderr",
     "output_type": "stream",
     "text": [
      "C:\\Users\\kfong\\Programs\\Submittal Log\\Personal Submittal Log V2\\metrics.py:26: SettingWithCopyWarning: \n",
      "A value is trying to be set on a copy of a slice from a DataFrame.\n",
      "Try using .loc[row_indexer,col_indexer] = value instead\n",
      "\n",
      "See the caveats in the documentation: https://pandas.pydata.org/pandas-docs/stable/user_guide/indexing.html#returning-a-view-versus-a-copy\n",
      "  df['Type'] = df['Description']\n",
      "C:\\Users\\kfong\\Programs\\Submittal Log\\Personal Submittal Log V2\\metrics.py:27: SettingWithCopyWarning: \n",
      "A value is trying to be set on a copy of a slice from a DataFrame.\n",
      "Try using .loc[row_indexer,col_indexer] = value instead\n",
      "\n",
      "See the caveats in the documentation: https://pandas.pydata.org/pandas-docs/stable/user_guide/indexing.html#returning-a-view-versus-a-copy\n",
      "  df['Location'] = df['Phase']\n"
     ]
    },
    {
     "name": "stdout",
     "output_type": "stream",
     "text": [
      "Fred Geller Electric\n"
     ]
    },
    {
     "name": "stderr",
     "output_type": "stream",
     "text": [
      "C:\\Users\\kfong\\Programs\\Submittal Log\\Personal Submittal Log V2\\metrics.py:26: SettingWithCopyWarning: \n",
      "A value is trying to be set on a copy of a slice from a DataFrame.\n",
      "Try using .loc[row_indexer,col_indexer] = value instead\n",
      "\n",
      "See the caveats in the documentation: https://pandas.pydata.org/pandas-docs/stable/user_guide/indexing.html#returning-a-view-versus-a-copy\n",
      "  df['Type'] = df['Description']\n",
      "C:\\Users\\kfong\\Programs\\Submittal Log\\Personal Submittal Log V2\\metrics.py:27: SettingWithCopyWarning: \n",
      "A value is trying to be set on a copy of a slice from a DataFrame.\n",
      "Try using .loc[row_indexer,col_indexer] = value instead\n",
      "\n",
      "See the caveats in the documentation: https://pandas.pydata.org/pandas-docs/stable/user_guide/indexing.html#returning-a-view-versus-a-copy\n",
      "  df['Location'] = df['Phase']\n"
     ]
    },
    {
     "name": "stdout",
     "output_type": "stream",
     "text": [
      "Corporate Electric\n",
      "Schneider Electric\n"
     ]
    },
    {
     "name": "stderr",
     "output_type": "stream",
     "text": [
      "C:\\Users\\kfong\\Programs\\Submittal Log\\Personal Submittal Log V2\\metrics.py:26: SettingWithCopyWarning: \n",
      "A value is trying to be set on a copy of a slice from a DataFrame.\n",
      "Try using .loc[row_indexer,col_indexer] = value instead\n",
      "\n",
      "See the caveats in the documentation: https://pandas.pydata.org/pandas-docs/stable/user_guide/indexing.html#returning-a-view-versus-a-copy\n",
      "  df['Type'] = df['Description']\n",
      "C:\\Users\\kfong\\Programs\\Submittal Log\\Personal Submittal Log V2\\metrics.py:27: SettingWithCopyWarning: \n",
      "A value is trying to be set on a copy of a slice from a DataFrame.\n",
      "Try using .loc[row_indexer,col_indexer] = value instead\n",
      "\n",
      "See the caveats in the documentation: https://pandas.pydata.org/pandas-docs/stable/user_guide/indexing.html#returning-a-view-versus-a-copy\n",
      "  df['Location'] = df['Phase']\n",
      "C:\\Users\\kfong\\Programs\\Submittal Log\\Personal Submittal Log V2\\metrics.py:26: SettingWithCopyWarning: \n",
      "A value is trying to be set on a copy of a slice from a DataFrame.\n",
      "Try using .loc[row_indexer,col_indexer] = value instead\n",
      "\n",
      "See the caveats in the documentation: https://pandas.pydata.org/pandas-docs/stable/user_guide/indexing.html#returning-a-view-versus-a-copy\n",
      "  df['Type'] = df['Description']\n",
      "C:\\Users\\kfong\\Programs\\Submittal Log\\Personal Submittal Log V2\\metrics.py:27: SettingWithCopyWarning: \n",
      "A value is trying to be set on a copy of a slice from a DataFrame.\n",
      "Try using .loc[row_indexer,col_indexer] = value instead\n",
      "\n",
      "See the caveats in the documentation: https://pandas.pydata.org/pandas-docs/stable/user_guide/indexing.html#returning-a-view-versus-a-copy\n",
      "  df['Location'] = df['Phase']\n"
     ]
    },
    {
     "name": "stdout",
     "output_type": "stream",
     "text": [
      "Olympic Plumbing And Heating Services Inc.\n"
     ]
    },
    {
     "name": "stderr",
     "output_type": "stream",
     "text": [
      "C:\\Users\\kfong\\Programs\\Submittal Log\\Personal Submittal Log V2\\metrics.py:26: SettingWithCopyWarning: \n",
      "A value is trying to be set on a copy of a slice from a DataFrame.\n",
      "Try using .loc[row_indexer,col_indexer] = value instead\n",
      "\n",
      "See the caveats in the documentation: https://pandas.pydata.org/pandas-docs/stable/user_guide/indexing.html#returning-a-view-versus-a-copy\n",
      "  df['Type'] = df['Description']\n",
      "C:\\Users\\kfong\\Programs\\Submittal Log\\Personal Submittal Log V2\\metrics.py:27: SettingWithCopyWarning: \n",
      "A value is trying to be set on a copy of a slice from a DataFrame.\n",
      "Try using .loc[row_indexer,col_indexer] = value instead\n",
      "\n",
      "See the caveats in the documentation: https://pandas.pydata.org/pandas-docs/stable/user_guide/indexing.html#returning-a-view-versus-a-copy\n",
      "  df['Location'] = df['Phase']\n"
     ]
    },
    {
     "name": "stdout",
     "output_type": "stream",
     "text": [
      "Owen Steel Company, Inc.\n"
     ]
    },
    {
     "name": "stderr",
     "output_type": "stream",
     "text": [
      "C:\\Users\\kfong\\Programs\\Submittal Log\\Personal Submittal Log V2\\metrics.py:26: SettingWithCopyWarning: \n",
      "A value is trying to be set on a copy of a slice from a DataFrame.\n",
      "Try using .loc[row_indexer,col_indexer] = value instead\n",
      "\n",
      "See the caveats in the documentation: https://pandas.pydata.org/pandas-docs/stable/user_guide/indexing.html#returning-a-view-versus-a-copy\n",
      "  df['Type'] = df['Description']\n",
      "C:\\Users\\kfong\\Programs\\Submittal Log\\Personal Submittal Log V2\\metrics.py:27: SettingWithCopyWarning: \n",
      "A value is trying to be set on a copy of a slice from a DataFrame.\n",
      "Try using .loc[row_indexer,col_indexer] = value instead\n",
      "\n",
      "See the caveats in the documentation: https://pandas.pydata.org/pandas-docs/stable/user_guide/indexing.html#returning-a-view-versus-a-copy\n",
      "  df['Location'] = df['Phase']\n"
     ]
    },
    {
     "name": "stdout",
     "output_type": "stream",
     "text": [
      "FCS Group\n"
     ]
    },
    {
     "name": "stderr",
     "output_type": "stream",
     "text": [
      "C:\\Users\\kfong\\Programs\\Submittal Log\\Personal Submittal Log V2\\metrics.py:26: SettingWithCopyWarning: \n",
      "A value is trying to be set on a copy of a slice from a DataFrame.\n",
      "Try using .loc[row_indexer,col_indexer] = value instead\n",
      "\n",
      "See the caveats in the documentation: https://pandas.pydata.org/pandas-docs/stable/user_guide/indexing.html#returning-a-view-versus-a-copy\n",
      "  df['Type'] = df['Description']\n",
      "C:\\Users\\kfong\\Programs\\Submittal Log\\Personal Submittal Log V2\\metrics.py:27: SettingWithCopyWarning: \n",
      "A value is trying to be set on a copy of a slice from a DataFrame.\n",
      "Try using .loc[row_indexer,col_indexer] = value instead\n",
      "\n",
      "See the caveats in the documentation: https://pandas.pydata.org/pandas-docs/stable/user_guide/indexing.html#returning-a-view-versus-a-copy\n",
      "  df['Location'] = df['Phase']\n"
     ]
    },
    {
     "name": "stdout",
     "output_type": "stream",
     "text": [
      "Post Road Iron Works Inc.\n"
     ]
    },
    {
     "name": "stderr",
     "output_type": "stream",
     "text": [
      "C:\\Users\\kfong\\Programs\\Submittal Log\\Personal Submittal Log V2\\metrics.py:26: SettingWithCopyWarning: \n",
      "A value is trying to be set on a copy of a slice from a DataFrame.\n",
      "Try using .loc[row_indexer,col_indexer] = value instead\n",
      "\n",
      "See the caveats in the documentation: https://pandas.pydata.org/pandas-docs/stable/user_guide/indexing.html#returning-a-view-versus-a-copy\n",
      "  df['Type'] = df['Description']\n",
      "C:\\Users\\kfong\\Programs\\Submittal Log\\Personal Submittal Log V2\\metrics.py:27: SettingWithCopyWarning: \n",
      "A value is trying to be set on a copy of a slice from a DataFrame.\n",
      "Try using .loc[row_indexer,col_indexer] = value instead\n",
      "\n",
      "See the caveats in the documentation: https://pandas.pydata.org/pandas-docs/stable/user_guide/indexing.html#returning-a-view-versus-a-copy\n",
      "  df['Location'] = df['Phase']\n"
     ]
    },
    {
     "name": "stdout",
     "output_type": "stream",
     "text": [
      "Component Assembly Systems\n"
     ]
    },
    {
     "name": "stderr",
     "output_type": "stream",
     "text": [
      "C:\\Users\\kfong\\Programs\\Submittal Log\\Personal Submittal Log V2\\metrics.py:26: SettingWithCopyWarning: \n",
      "A value is trying to be set on a copy of a slice from a DataFrame.\n",
      "Try using .loc[row_indexer,col_indexer] = value instead\n",
      "\n",
      "See the caveats in the documentation: https://pandas.pydata.org/pandas-docs/stable/user_guide/indexing.html#returning-a-view-versus-a-copy\n",
      "  df['Type'] = df['Description']\n",
      "C:\\Users\\kfong\\Programs\\Submittal Log\\Personal Submittal Log V2\\metrics.py:27: SettingWithCopyWarning: \n",
      "A value is trying to be set on a copy of a slice from a DataFrame.\n",
      "Try using .loc[row_indexer,col_indexer] = value instead\n",
      "\n",
      "See the caveats in the documentation: https://pandas.pydata.org/pandas-docs/stable/user_guide/indexing.html#returning-a-view-versus-a-copy\n",
      "  df['Location'] = df['Phase']\n"
     ]
    },
    {
     "name": "stdout",
     "output_type": "stream",
     "text": [
      "PJ Mechanical LLC.\n"
     ]
    },
    {
     "name": "stderr",
     "output_type": "stream",
     "text": [
      "C:\\Users\\kfong\\Programs\\Submittal Log\\Personal Submittal Log V2\\metrics.py:26: SettingWithCopyWarning: \n",
      "A value is trying to be set on a copy of a slice from a DataFrame.\n",
      "Try using .loc[row_indexer,col_indexer] = value instead\n",
      "\n",
      "See the caveats in the documentation: https://pandas.pydata.org/pandas-docs/stable/user_guide/indexing.html#returning-a-view-versus-a-copy\n",
      "  df['Type'] = df['Description']\n",
      "C:\\Users\\kfong\\Programs\\Submittal Log\\Personal Submittal Log V2\\metrics.py:27: SettingWithCopyWarning: \n",
      "A value is trying to be set on a copy of a slice from a DataFrame.\n",
      "Try using .loc[row_indexer,col_indexer] = value instead\n",
      "\n",
      "See the caveats in the documentation: https://pandas.pydata.org/pandas-docs/stable/user_guide/indexing.html#returning-a-view-versus-a-copy\n",
      "  df['Location'] = df['Phase']\n"
     ]
    },
    {
     "name": "stdout",
     "output_type": "stream",
     "text": [
      "JC Elite Construction\n"
     ]
    },
    {
     "name": "stderr",
     "output_type": "stream",
     "text": [
      "C:\\Users\\kfong\\Programs\\Submittal Log\\Personal Submittal Log V2\\metrics.py:26: SettingWithCopyWarning: \n",
      "A value is trying to be set on a copy of a slice from a DataFrame.\n",
      "Try using .loc[row_indexer,col_indexer] = value instead\n",
      "\n",
      "See the caveats in the documentation: https://pandas.pydata.org/pandas-docs/stable/user_guide/indexing.html#returning-a-view-versus-a-copy\n",
      "  df['Type'] = df['Description']\n",
      "C:\\Users\\kfong\\Programs\\Submittal Log\\Personal Submittal Log V2\\metrics.py:27: SettingWithCopyWarning: \n",
      "A value is trying to be set on a copy of a slice from a DataFrame.\n",
      "Try using .loc[row_indexer,col_indexer] = value instead\n",
      "\n",
      "See the caveats in the documentation: https://pandas.pydata.org/pandas-docs/stable/user_guide/indexing.html#returning-a-view-versus-a-copy\n",
      "  df['Location'] = df['Phase']\n"
     ]
    },
    {
     "name": "stdout",
     "output_type": "stream",
     "text": [
      "Cassone Leasing, Inc.\n"
     ]
    },
    {
     "name": "stderr",
     "output_type": "stream",
     "text": [
      "C:\\Users\\kfong\\Programs\\Submittal Log\\Personal Submittal Log V2\\metrics.py:26: SettingWithCopyWarning: \n",
      "A value is trying to be set on a copy of a slice from a DataFrame.\n",
      "Try using .loc[row_indexer,col_indexer] = value instead\n",
      "\n",
      "See the caveats in the documentation: https://pandas.pydata.org/pandas-docs/stable/user_guide/indexing.html#returning-a-view-versus-a-copy\n",
      "  df['Type'] = df['Description']\n",
      "C:\\Users\\kfong\\Programs\\Submittal Log\\Personal Submittal Log V2\\metrics.py:27: SettingWithCopyWarning: \n",
      "A value is trying to be set on a copy of a slice from a DataFrame.\n",
      "Try using .loc[row_indexer,col_indexer] = value instead\n",
      "\n",
      "See the caveats in the documentation: https://pandas.pydata.org/pandas-docs/stable/user_guide/indexing.html#returning-a-view-versus-a-copy\n",
      "  df['Location'] = df['Phase']\n"
     ]
    },
    {
     "name": "stdout",
     "output_type": "stream",
     "text": [
      "Peter Scalamandre & Sons Inc\n"
     ]
    },
    {
     "name": "stderr",
     "output_type": "stream",
     "text": [
      "C:\\Users\\kfong\\Programs\\Submittal Log\\Personal Submittal Log V2\\metrics.py:26: SettingWithCopyWarning: \n",
      "A value is trying to be set on a copy of a slice from a DataFrame.\n",
      "Try using .loc[row_indexer,col_indexer] = value instead\n",
      "\n",
      "See the caveats in the documentation: https://pandas.pydata.org/pandas-docs/stable/user_guide/indexing.html#returning-a-view-versus-a-copy\n",
      "  df['Type'] = df['Description']\n",
      "C:\\Users\\kfong\\Programs\\Submittal Log\\Personal Submittal Log V2\\metrics.py:27: SettingWithCopyWarning: \n",
      "A value is trying to be set on a copy of a slice from a DataFrame.\n",
      "Try using .loc[row_indexer,col_indexer] = value instead\n",
      "\n",
      "See the caveats in the documentation: https://pandas.pydata.org/pandas-docs/stable/user_guide/indexing.html#returning-a-view-versus-a-copy\n",
      "  df['Location'] = df['Phase']\n"
     ]
    },
    {
     "name": "stdout",
     "output_type": "stream",
     "text": [
      "Rael Automatic Sprinkler\n"
     ]
    },
    {
     "name": "stderr",
     "output_type": "stream",
     "text": [
      "C:\\Users\\kfong\\Programs\\Submittal Log\\Personal Submittal Log V2\\metrics.py:26: SettingWithCopyWarning: \n",
      "A value is trying to be set on a copy of a slice from a DataFrame.\n",
      "Try using .loc[row_indexer,col_indexer] = value instead\n",
      "\n",
      "See the caveats in the documentation: https://pandas.pydata.org/pandas-docs/stable/user_guide/indexing.html#returning-a-view-versus-a-copy\n",
      "  df['Type'] = df['Description']\n",
      "C:\\Users\\kfong\\Programs\\Submittal Log\\Personal Submittal Log V2\\metrics.py:27: SettingWithCopyWarning: \n",
      "A value is trying to be set on a copy of a slice from a DataFrame.\n",
      "Try using .loc[row_indexer,col_indexer] = value instead\n",
      "\n",
      "See the caveats in the documentation: https://pandas.pydata.org/pandas-docs/stable/user_guide/indexing.html#returning-a-view-versus-a-copy\n",
      "  df['Location'] = df['Phase']\n",
      "C:\\Users\\kfong\\Programs\\Submittal Log\\Personal Submittal Log V2\\metrics.py:26: SettingWithCopyWarning: \n",
      "A value is trying to be set on a copy of a slice from a DataFrame.\n",
      "Try using .loc[row_indexer,col_indexer] = value instead\n",
      "\n",
      "See the caveats in the documentation: https://pandas.pydata.org/pandas-docs/stable/user_guide/indexing.html#returning-a-view-versus-a-copy\n",
      "  df['Type'] = df['Description']\n"
     ]
    },
    {
     "name": "stdout",
     "output_type": "stream",
     "text": [
      "Center Sheet Metal\n"
     ]
    },
    {
     "name": "stderr",
     "output_type": "stream",
     "text": [
      "C:\\Users\\kfong\\Programs\\Submittal Log\\Personal Submittal Log V2\\metrics.py:27: SettingWithCopyWarning: \n",
      "A value is trying to be set on a copy of a slice from a DataFrame.\n",
      "Try using .loc[row_indexer,col_indexer] = value instead\n",
      "\n",
      "See the caveats in the documentation: https://pandas.pydata.org/pandas-docs/stable/user_guide/indexing.html#returning-a-view-versus-a-copy\n",
      "  df['Location'] = df['Phase']\n",
      "C:\\Users\\kfong\\Programs\\Submittal Log\\Personal Submittal Log V2\\metrics.py:26: SettingWithCopyWarning: \n",
      "A value is trying to be set on a copy of a slice from a DataFrame.\n",
      "Try using .loc[row_indexer,col_indexer] = value instead\n",
      "\n",
      "See the caveats in the documentation: https://pandas.pydata.org/pandas-docs/stable/user_guide/indexing.html#returning-a-view-versus-a-copy\n",
      "  df['Type'] = df['Description']\n"
     ]
    },
    {
     "name": "stdout",
     "output_type": "stream",
     "text": [
      "McKeon Door East\n",
      "Office Images\n"
     ]
    },
    {
     "name": "stderr",
     "output_type": "stream",
     "text": [
      "C:\\Users\\kfong\\Programs\\Submittal Log\\Personal Submittal Log V2\\metrics.py:27: SettingWithCopyWarning: \n",
      "A value is trying to be set on a copy of a slice from a DataFrame.\n",
      "Try using .loc[row_indexer,col_indexer] = value instead\n",
      "\n",
      "See the caveats in the documentation: https://pandas.pydata.org/pandas-docs/stable/user_guide/indexing.html#returning-a-view-versus-a-copy\n",
      "  df['Location'] = df['Phase']\n",
      "C:\\Users\\kfong\\Programs\\Submittal Log\\Personal Submittal Log V2\\metrics.py:26: SettingWithCopyWarning: \n",
      "A value is trying to be set on a copy of a slice from a DataFrame.\n",
      "Try using .loc[row_indexer,col_indexer] = value instead\n",
      "\n",
      "See the caveats in the documentation: https://pandas.pydata.org/pandas-docs/stable/user_guide/indexing.html#returning-a-view-versus-a-copy\n",
      "  df['Type'] = df['Description']\n",
      "C:\\Users\\kfong\\Programs\\Submittal Log\\Personal Submittal Log V2\\metrics.py:27: SettingWithCopyWarning: \n",
      "A value is trying to be set on a copy of a slice from a DataFrame.\n",
      "Try using .loc[row_indexer,col_indexer] = value instead\n",
      "\n",
      "See the caveats in the documentation: https://pandas.pydata.org/pandas-docs/stable/user_guide/indexing.html#returning-a-view-versus-a-copy\n",
      "  df['Location'] = df['Phase']\n"
     ]
    },
    {
     "name": "stdout",
     "output_type": "stream",
     "text": [
      "Image Manufacturing Group\n",
      "Foundation Engineering Services, D.P.C.\n"
     ]
    },
    {
     "name": "stderr",
     "output_type": "stream",
     "text": [
      "C:\\Users\\kfong\\Programs\\Submittal Log\\Personal Submittal Log V2\\metrics.py:26: SettingWithCopyWarning: \n",
      "A value is trying to be set on a copy of a slice from a DataFrame.\n",
      "Try using .loc[row_indexer,col_indexer] = value instead\n",
      "\n",
      "See the caveats in the documentation: https://pandas.pydata.org/pandas-docs/stable/user_guide/indexing.html#returning-a-view-versus-a-copy\n",
      "  df['Type'] = df['Description']\n",
      "C:\\Users\\kfong\\Programs\\Submittal Log\\Personal Submittal Log V2\\metrics.py:27: SettingWithCopyWarning: \n",
      "A value is trying to be set on a copy of a slice from a DataFrame.\n",
      "Try using .loc[row_indexer,col_indexer] = value instead\n",
      "\n",
      "See the caveats in the documentation: https://pandas.pydata.org/pandas-docs/stable/user_guide/indexing.html#returning-a-view-versus-a-copy\n",
      "  df['Location'] = df['Phase']\n",
      "C:\\Users\\kfong\\Programs\\Submittal Log\\Personal Submittal Log V2\\metrics.py:26: SettingWithCopyWarning: \n",
      "A value is trying to be set on a copy of a slice from a DataFrame.\n",
      "Try using .loc[row_indexer,col_indexer] = value instead\n",
      "\n",
      "See the caveats in the documentation: https://pandas.pydata.org/pandas-docs/stable/user_guide/indexing.html#returning-a-view-versus-a-copy\n",
      "  df['Type'] = df['Description']\n",
      "C:\\Users\\kfong\\Programs\\Submittal Log\\Personal Submittal Log V2\\metrics.py:27: SettingWithCopyWarning: \n",
      "A value is trying to be set on a copy of a slice from a DataFrame.\n",
      "Try using .loc[row_indexer,col_indexer] = value instead\n",
      "\n",
      "See the caveats in the documentation: https://pandas.pydata.org/pandas-docs/stable/user_guide/indexing.html#returning-a-view-versus-a-copy\n",
      "  df['Location'] = df['Phase']\n",
      "C:\\Users\\kfong\\Programs\\Submittal Log\\Personal Submittal Log V2\\metrics.py:26: SettingWithCopyWarning: \n",
      "A value is trying to be set on a copy of a slice from a DataFrame.\n",
      "Try using .loc[row_indexer,col_indexer] = value instead\n",
      "\n",
      "See the caveats in the documentation: https://pandas.pydata.org/pandas-docs/stable/user_guide/indexing.html#returning-a-view-versus-a-copy\n",
      "  df['Type'] = df['Description']\n"
     ]
    },
    {
     "name": "stdout",
     "output_type": "stream",
     "text": [
      "Delta CMT\n",
      "NYCO Environmental\n"
     ]
    },
    {
     "name": "stderr",
     "output_type": "stream",
     "text": [
      "C:\\Users\\kfong\\Programs\\Submittal Log\\Personal Submittal Log V2\\metrics.py:27: SettingWithCopyWarning: \n",
      "A value is trying to be set on a copy of a slice from a DataFrame.\n",
      "Try using .loc[row_indexer,col_indexer] = value instead\n",
      "\n",
      "See the caveats in the documentation: https://pandas.pydata.org/pandas-docs/stable/user_guide/indexing.html#returning-a-view-versus-a-copy\n",
      "  df['Location'] = df['Phase']\n",
      "C:\\Users\\kfong\\Programs\\Submittal Log\\Personal Submittal Log V2\\metrics.py:26: SettingWithCopyWarning: \n",
      "A value is trying to be set on a copy of a slice from a DataFrame.\n",
      "Try using .loc[row_indexer,col_indexer] = value instead\n",
      "\n",
      "See the caveats in the documentation: https://pandas.pydata.org/pandas-docs/stable/user_guide/indexing.html#returning-a-view-versus-a-copy\n",
      "  df['Type'] = df['Description']\n",
      "C:\\Users\\kfong\\Programs\\Submittal Log\\Personal Submittal Log V2\\metrics.py:27: SettingWithCopyWarning: \n",
      "A value is trying to be set on a copy of a slice from a DataFrame.\n",
      "Try using .loc[row_indexer,col_indexer] = value instead\n",
      "\n",
      "See the caveats in the documentation: https://pandas.pydata.org/pandas-docs/stable/user_guide/indexing.html#returning-a-view-versus-a-copy\n",
      "  df['Location'] = df['Phase']\n",
      "C:\\Users\\kfong\\Programs\\Submittal Log\\Personal Submittal Log V2\\metrics.py:26: SettingWithCopyWarning: \n",
      "A value is trying to be set on a copy of a slice from a DataFrame.\n",
      "Try using .loc[row_indexer,col_indexer] = value instead\n",
      "\n",
      "See the caveats in the documentation: https://pandas.pydata.org/pandas-docs/stable/user_guide/indexing.html#returning-a-view-versus-a-copy\n",
      "  df['Type'] = df['Description']\n"
     ]
    },
    {
     "name": "stdout",
     "output_type": "stream",
     "text": [
      "Iconics\n"
     ]
    },
    {
     "name": "stderr",
     "output_type": "stream",
     "text": [
      "C:\\Users\\kfong\\Programs\\Submittal Log\\Personal Submittal Log V2\\metrics.py:27: SettingWithCopyWarning: \n",
      "A value is trying to be set on a copy of a slice from a DataFrame.\n",
      "Try using .loc[row_indexer,col_indexer] = value instead\n",
      "\n",
      "See the caveats in the documentation: https://pandas.pydata.org/pandas-docs/stable/user_guide/indexing.html#returning-a-view-versus-a-copy\n",
      "  df['Location'] = df['Phase']\n"
     ]
    },
    {
     "name": "stdout",
     "output_type": "stream",
     "text": [
      "SITA\n",
      "Nanolumens\n"
     ]
    },
    {
     "name": "stderr",
     "output_type": "stream",
     "text": [
      "C:\\Users\\kfong\\Programs\\Submittal Log\\Personal Submittal Log V2\\metrics.py:26: SettingWithCopyWarning: \n",
      "A value is trying to be set on a copy of a slice from a DataFrame.\n",
      "Try using .loc[row_indexer,col_indexer] = value instead\n",
      "\n",
      "See the caveats in the documentation: https://pandas.pydata.org/pandas-docs/stable/user_guide/indexing.html#returning-a-view-versus-a-copy\n",
      "  df['Type'] = df['Description']\n",
      "C:\\Users\\kfong\\Programs\\Submittal Log\\Personal Submittal Log V2\\metrics.py:27: SettingWithCopyWarning: \n",
      "A value is trying to be set on a copy of a slice from a DataFrame.\n",
      "Try using .loc[row_indexer,col_indexer] = value instead\n",
      "\n",
      "See the caveats in the documentation: https://pandas.pydata.org/pandas-docs/stable/user_guide/indexing.html#returning-a-view-versus-a-copy\n",
      "  df['Location'] = df['Phase']\n",
      "C:\\Users\\kfong\\Programs\\Submittal Log\\Personal Submittal Log V2\\metrics.py:26: SettingWithCopyWarning: \n",
      "A value is trying to be set on a copy of a slice from a DataFrame.\n",
      "Try using .loc[row_indexer,col_indexer] = value instead\n",
      "\n",
      "See the caveats in the documentation: https://pandas.pydata.org/pandas-docs/stable/user_guide/indexing.html#returning-a-view-versus-a-copy\n",
      "  df['Type'] = df['Description']\n",
      "C:\\Users\\kfong\\Programs\\Submittal Log\\Personal Submittal Log V2\\metrics.py:27: SettingWithCopyWarning: \n",
      "A value is trying to be set on a copy of a slice from a DataFrame.\n",
      "Try using .loc[row_indexer,col_indexer] = value instead\n",
      "\n",
      "See the caveats in the documentation: https://pandas.pydata.org/pandas-docs/stable/user_guide/indexing.html#returning-a-view-versus-a-copy\n",
      "  df['Location'] = df['Phase']\n",
      "C:\\Users\\kfong\\Programs\\Submittal Log\\Personal Submittal Log V2\\metrics.py:26: SettingWithCopyWarning: \n",
      "A value is trying to be set on a copy of a slice from a DataFrame.\n",
      "Try using .loc[row_indexer,col_indexer] = value instead\n",
      "\n",
      "See the caveats in the documentation: https://pandas.pydata.org/pandas-docs/stable/user_guide/indexing.html#returning-a-view-versus-a-copy\n",
      "  df['Type'] = df['Description']\n"
     ]
    },
    {
     "name": "stdout",
     "output_type": "stream",
     "text": [
      "Boingo Wireless\n",
      "Infax\n"
     ]
    },
    {
     "name": "stderr",
     "output_type": "stream",
     "text": [
      "C:\\Users\\kfong\\Programs\\Submittal Log\\Personal Submittal Log V2\\metrics.py:27: SettingWithCopyWarning: \n",
      "A value is trying to be set on a copy of a slice from a DataFrame.\n",
      "Try using .loc[row_indexer,col_indexer] = value instead\n",
      "\n",
      "See the caveats in the documentation: https://pandas.pydata.org/pandas-docs/stable/user_guide/indexing.html#returning-a-view-versus-a-copy\n",
      "  df['Location'] = df['Phase']\n",
      "C:\\Users\\kfong\\Programs\\Submittal Log\\Personal Submittal Log V2\\metrics.py:26: SettingWithCopyWarning: \n",
      "A value is trying to be set on a copy of a slice from a DataFrame.\n",
      "Try using .loc[row_indexer,col_indexer] = value instead\n",
      "\n",
      "See the caveats in the documentation: https://pandas.pydata.org/pandas-docs/stable/user_guide/indexing.html#returning-a-view-versus-a-copy\n",
      "  df['Type'] = df['Description']\n",
      "C:\\Users\\kfong\\Programs\\Submittal Log\\Personal Submittal Log V2\\metrics.py:27: SettingWithCopyWarning: \n",
      "A value is trying to be set on a copy of a slice from a DataFrame.\n",
      "Try using .loc[row_indexer,col_indexer] = value instead\n",
      "\n",
      "See the caveats in the documentation: https://pandas.pydata.org/pandas-docs/stable/user_guide/indexing.html#returning-a-view-versus-a-copy\n",
      "  df['Location'] = df['Phase']\n",
      "C:\\Users\\kfong\\Programs\\Submittal Log\\Personal Submittal Log V2\\metrics.py:26: SettingWithCopyWarning: \n",
      "A value is trying to be set on a copy of a slice from a DataFrame.\n",
      "Try using .loc[row_indexer,col_indexer] = value instead\n",
      "\n",
      "See the caveats in the documentation: https://pandas.pydata.org/pandas-docs/stable/user_guide/indexing.html#returning-a-view-versus-a-copy\n",
      "  df['Type'] = df['Description']\n",
      "C:\\Users\\kfong\\Programs\\Submittal Log\\Personal Submittal Log V2\\metrics.py:27: SettingWithCopyWarning: \n",
      "A value is trying to be set on a copy of a slice from a DataFrame.\n",
      "Try using .loc[row_indexer,col_indexer] = value instead\n",
      "\n",
      "See the caveats in the documentation: https://pandas.pydata.org/pandas-docs/stable/user_guide/indexing.html#returning-a-view-versus-a-copy\n",
      "  df['Location'] = df['Phase']\n"
     ]
    },
    {
     "name": "stdout",
     "output_type": "stream",
     "text": [
      "Falco Construction Corp.\n",
      "Skyline Steel LLC\n"
     ]
    },
    {
     "name": "stderr",
     "output_type": "stream",
     "text": [
      "C:\\Users\\kfong\\Programs\\Submittal Log\\Personal Submittal Log V2\\metrics.py:26: SettingWithCopyWarning: \n",
      "A value is trying to be set on a copy of a slice from a DataFrame.\n",
      "Try using .loc[row_indexer,col_indexer] = value instead\n",
      "\n",
      "See the caveats in the documentation: https://pandas.pydata.org/pandas-docs/stable/user_guide/indexing.html#returning-a-view-versus-a-copy\n",
      "  df['Type'] = df['Description']\n",
      "C:\\Users\\kfong\\Programs\\Submittal Log\\Personal Submittal Log V2\\metrics.py:27: SettingWithCopyWarning: \n",
      "A value is trying to be set on a copy of a slice from a DataFrame.\n",
      "Try using .loc[row_indexer,col_indexer] = value instead\n",
      "\n",
      "See the caveats in the documentation: https://pandas.pydata.org/pandas-docs/stable/user_guide/indexing.html#returning-a-view-versus-a-copy\n",
      "  df['Location'] = df['Phase']\n",
      "C:\\Users\\kfong\\Programs\\Submittal Log\\Personal Submittal Log V2\\metrics.py:26: SettingWithCopyWarning: \n",
      "A value is trying to be set on a copy of a slice from a DataFrame.\n",
      "Try using .loc[row_indexer,col_indexer] = value instead\n",
      "\n",
      "See the caveats in the documentation: https://pandas.pydata.org/pandas-docs/stable/user_guide/indexing.html#returning-a-view-versus-a-copy\n",
      "  df['Type'] = df['Description']\n"
     ]
    },
    {
     "name": "stdout",
     "output_type": "stream",
     "text": [
      "STV S&P, JV\n",
      "Skyline Steel Corp.\n"
     ]
    },
    {
     "name": "stderr",
     "output_type": "stream",
     "text": [
      "C:\\Users\\kfong\\Programs\\Submittal Log\\Personal Submittal Log V2\\metrics.py:27: SettingWithCopyWarning: \n",
      "A value is trying to be set on a copy of a slice from a DataFrame.\n",
      "Try using .loc[row_indexer,col_indexer] = value instead\n",
      "\n",
      "See the caveats in the documentation: https://pandas.pydata.org/pandas-docs/stable/user_guide/indexing.html#returning-a-view-versus-a-copy\n",
      "  df['Location'] = df['Phase']\n"
     ]
    }
   ],
   "source": [
    "for i in range(len(contractors)):\n",
    "    \n",
    "    data = df[df['Responsible Contractor'] == contractors[i]]\n",
    "    name = engineer(contractors[i])\n",
    "    trades = trade(contractors[i])\n",
    "        \n",
    "    workbook = writer.book\n",
    "    \n",
    "    data.to_excel(writer,\n",
    "                 sheet_name = f'{trades}',\n",
    "                 index = False,\n",
    "                 startrow = 8)\n",
    "    submittal_log = writer.sheets[f'{trades}']\n",
    "    excel_creator.generate_worksheet(data, trades, contractors[i], workbook, submittal_log)\n",
    "    \n",
    "    number_total_format = workbook.add_format({\n",
    "    'bold' : True,\n",
    "    'font_color' : 'black', \n",
    "    'font_size' : 11,\n",
    "    'font_name' : default_font, \n",
    "    'align' : 'center',\n",
    "    'valign' : 'vcenter', \n",
    "    'border' : 1,\n",
    "    'num_format' : '#,##0'\n",
    "    })\n",
    "\n",
    "    percent_format = workbook.add_format({\n",
    "        'bold' : False,\n",
    "        'font_color' : 'black', \n",
    "        'font_size' : 11,\n",
    "        'font_name' : default_font, \n",
    "        'align' : 'center',\n",
    "        'valign' : 'vcenter', \n",
    "        'border' : 1,\n",
    "        'num_format' : '0.00%'\n",
    "    })\n",
    "    \n",
    "    submittal_log.write('J1', 'North #')\n",
    "    submittal_log.write('K1', 'North %')\n",
    "    submittal_log.write('L1', 'South #')\n",
    "    submittal_log.write('M1', 'South %')\n",
    "    submittal_log.write('I2', 'Total')\n",
    "    submittal_log.write('I3', 'Open')\n",
    "    submittal_log.write('I4', 'Closeout')\n",
    "    submittal_log.write('I5', 'Design Team')\n",
    "    submittal_log.write('I6', 'R&R')\n",
    "    submittal_log.write('I7', 'R&R LEED')\n",
    "    submittal_log.write('I8', 'Closed')\n",
    "    \n",
    "    north_metrics = metrics.metrics(data, ['N', 'N/S'])\n",
    "    total = 0\n",
    "    for key in north_metrics:\n",
    "        total = total + north_metrics[key][1]\n",
    "    \n",
    "    submittal_log.write('J2', total, number_total_format)\n",
    "    if total == 0:\n",
    "        total = 1 \n",
    "        \n",
    "    row = 2\n",
    "    for key in north_metrics:\n",
    "        submittal_log.write(row, 9, north_metrics[key][1], number_total_format)\n",
    "        submittal_log.write(row, 10, north_metrics[key][1]/total, percent_format)\n",
    "        row = row + 1\n",
    "        \n",
    "        \n",
    "    south_metrics = metrics.metrics(data, ['S'])\n",
    "    total = 0\n",
    "    for key in south_metrics:\n",
    "        total = total + south_metrics[key][1]\n",
    "\n",
    "        \n",
    "    submittal_log.write('L2', total, number_total_format)\n",
    "    if total == 0:\n",
    "        total = 1  \n",
    "        \n",
    "    row = 2\n",
    "    for key in south_metrics:\n",
    "        submittal_log.write(row, 11, south_metrics[key][1], number_total_format)\n",
    "        submittal_log.write(row, 12, south_metrics[key][1]/total, percent_format)\n",
    "        row = row + 1\n",
    " \n",
    "    print(contractors[i])"
   ]
  },
  {
   "cell_type": "code",
   "execution_count": null,
   "id": "481142ac",
   "metadata": {},
   "outputs": [],
   "source": []
  },
  {
   "cell_type": "code",
   "execution_count": 10,
   "id": "3e16e482",
   "metadata": {},
   "outputs": [],
   "source": [
    "    writer.close()\n",
    "    writer.handles = None"
   ]
  }
 ],
 "metadata": {
  "kernelspec": {
   "display_name": "Python 3 (ipykernel)",
   "language": "python",
   "name": "python3"
  },
  "language_info": {
   "codemirror_mode": {
    "name": "ipython",
    "version": 3
   },
   "file_extension": ".py",
   "mimetype": "text/x-python",
   "name": "python",
   "nbconvert_exporter": "python",
   "pygments_lexer": "ipython3",
   "version": "3.9.12"
  }
 },
 "nbformat": 4,
 "nbformat_minor": 5
}
