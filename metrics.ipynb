{
 "cells": [
  {
   "cell_type": "code",
   "execution_count": 1,
   "id": "7d08aec7",
   "metadata": {},
   "outputs": [],
   "source": [
    "import pandas as pd\n",
    "import numpy as np\n",
    "import datetime\n",
    "import os\n",
    "import procore_formatter\n",
    "import excel_creator\n",
    "import procore_functions as procore\n"
   ]
  },
  {
   "cell_type": "code",
   "execution_count": 2,
   "id": "d4666c71",
   "metadata": {},
   "outputs": [],
   "source": [
    "raw = pd.read_csv('submittal_logs.csv')\n",
    "df = procore_formatter.formatter(raw)\n",
    "\n",
    "closeout = ['As-Built',\n",
    "           'Attic Stock',\n",
    "           'Certificate of Substantial Completion',\n",
    "           'Certificate of Final Completion',\n",
    "           'Closeouts',\n",
    "           'O&M Manual',\n",
    "           'Product Manual',\n",
    "           'Record Documents',\n",
    "           'Spare Parts List',\n",
    "           'Training Material',\n",
    "           'Warranty / Guarantee']\n",
    "\n",
    "types = df['Description'].unique()\n",
    "not_closeout = [x for x in types if x not in closeout]\n",
    "df['Type'] = df['Description']\n",
    "df['Location'] = df['Phase']\n",
    "\n",
    "north = ['N', 'N/S']\n",
    "south = ['S']"
   ]
  },
  {
   "cell_type": "code",
   "execution_count": 3,
   "id": "41c24897",
   "metadata": {},
   "outputs": [],
   "source": [
    "df1 = df[df['Responsible Contractor'] == 'Fred Geller Electric'].copy()"
   ]
  },
  {
   "cell_type": "code",
   "execution_count": 4,
   "id": "da87cbd3",
   "metadata": {},
   "outputs": [
    {
     "name": "stdout",
     "output_type": "stream",
     "text": [
      "{'open': None, 'closeout': None, 'pending': None, 'revised': None, 'leed': None, 'closed': None}\n"
     ]
    }
   ],
   "source": [
    "keys = ['open',\n",
    "       'closeout',\n",
    "       'pending',\n",
    "       'revised',\n",
    "       'leed',\n",
    "       'closed']\n",
    "\n",
    "metrics = dict(zip(keys, [None] * len(keys)))\n",
    "print(metrics)"
   ]
  },
  {
   "cell_type": "code",
   "execution_count": 5,
   "id": "68ebba9c",
   "metadata": {},
   "outputs": [],
   "source": [
    "metrics['open'] = procore.open_submittals(df1, south, not_closeout)\n",
    "metrics['closeout'] = procore.open_submittals(df1, south, closeout)\n",
    "metrics['pending'] = procore.design_team(df1, south, 'all')\n",
    "metrics['revised'] = procore.revise_resubmit(df1, south, 'all')\n",
    "metrics['leed'] = [0, 0]\n",
    "metrics['closed'] = procore.closed_submittals(df1, south, 'all')"
   ]
  },
  {
   "cell_type": "code",
   "execution_count": null,
   "id": "d16ff293",
   "metadata": {},
   "outputs": [],
   "source": []
  },
  {
   "cell_type": "code",
   "execution_count": null,
   "id": "0944fe88",
   "metadata": {},
   "outputs": [],
   "source": []
  }
 ],
 "metadata": {
  "kernelspec": {
   "display_name": "Python 3 (ipykernel)",
   "language": "python",
   "name": "python3"
  },
  "language_info": {
   "codemirror_mode": {
    "name": "ipython",
    "version": 3
   },
   "file_extension": ".py",
   "mimetype": "text/x-python",
   "name": "python",
   "nbconvert_exporter": "python",
   "pygments_lexer": "ipython3",
   "version": "3.9.12"
  }
 },
 "nbformat": 4,
 "nbformat_minor": 5
}
