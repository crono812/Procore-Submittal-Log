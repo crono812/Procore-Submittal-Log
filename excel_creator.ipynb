{
 "cells": [
  {
   "cell_type": "markdown",
   "id": "667b1603",
   "metadata": {},
   "source": [
    "def generate_worksheet(df, engineer, sub, workbook, worksheet):"
   ]
  },
  {
   "cell_type": "code",
   "execution_count": 6,
   "id": "a5c1cc30",
   "metadata": {},
   "outputs": [],
   "source": [
    "import xlsxwriter as xl\n",
    "import pandas as pd\n",
    "import numpy as np\n",
    "import os\n",
    "from datetime import datetime\n",
    "import procore_formatter"
   ]
  },
  {
   "cell_type": "code",
   "execution_count": 7,
   "id": "c5f30a1a",
   "metadata": {},
   "outputs": [
    {
     "name": "stdout",
     "output_type": "stream",
     "text": [
      "Error in Submit By Date\n"
     ]
    }
   ],
   "source": [
    "raw = pd.read_csv('submittal_logs.csv')\n",
    "df = procore_formatter.formatter(raw)"
   ]
  },
  {
   "cell_type": "code",
   "execution_count": 4,
   "id": "022e5c41",
   "metadata": {},
   "outputs": [],
   "source": [
    "today = datetime.today()"
   ]
  },
  {
   "cell_type": "code",
   "execution_count": null,
   "id": "1d4175ad",
   "metadata": {},
   "outputs": [],
   "source": [
    "text_format = workbook.add_format({\n",
    "    'font_name' : 'Calibri', \n",
    "    'font_size' : 12,\n",
    "    'align' : 'center',\n",
    "    'valign' : 'vcenter', \n",
    "    'text_wrap' : True\n",
    "})\n",
    "\n",
    "date_format = workbook.add_format({\n",
    "    'font_name' : 'Calibri', \n",
    "    'font_size' : 12,\n",
    "    'align' : 'center',\n",
    "    'valign' : 'vcenter', \n",
    "    'text_wrap' : True,\n",
    "    'num_format' : 'mm/dd/yyyy'\n",
    "})\n",
    "\n",
    "format_title = workbook.add_format({\n",
    "    'bold' : True,\n",
    "    'font_color' : 'white', \n",
    "    'bg_color' : '333F4F', \n",
    "    'font_name' : 'Calibri',\n",
    "    'font_size' : 14,\n",
    "    'border' : 1, \n",
    "    'align' : 'center',\n",
    "    'valign' : 'vcenter',\n",
    "    'text_wrap' : True\n",
    "})\n",
    "\n"
   ]
  },
  {
   "cell_type": "code",
   "execution_count": null,
   "id": "3ffbcb7d",
   "metadata": {},
   "outputs": [],
   "source": [
    "delta_title = 'Delta at Laguardia\\nConcourse F\\nTAA# 2732.46\\n\\nContract Items List'\n",
    "\n",
    "\n",
    "delta_format = workbook.add_format({\n",
    "    'bold' : True,\n",
    "    'font_color' : 'black', \n",
    "    'bg_color' : 'FFCCCC', \n",
    "    'font_name' : 'Calibri',\n",
    "    'font_size' : 16,\n",
    "    'border' : 2, \n",
    "    'align' : 'center',\n",
    "    'valign' : 'vcenter',\n",
    "    'text_wrap' : True   \n",
    "})"
   ]
  },
  {
   "cell_type": "code",
   "execution_count": null,
   "id": "ed8b79c0",
   "metadata": {},
   "outputs": [],
   "source": [
    "worksheet.merge_range(0, 0, 7, 5, delta_title, delta_format)\n",
    "\n",
    "\n",
    "dated_columns = [7, 8, 9, 10, 11, 12, 15, 16]"
   ]
  },
  {
   "cell_type": "code",
   "execution_count": null,
   "id": "0390ee40",
   "metadata": {},
   "outputs": [],
   "source": [
    "worksheet.set_column(0, 20, None, text_format)\n",
    "for i in range(len(dated_columns)):\n",
    "    worksheet.set_column(i, i, None, date_format) "
   ]
  },
  {
   "cell_type": "code",
   "execution_count": null,
   "id": "3d7728c0",
   "metadata": {},
   "outputs": [],
   "source": [
    "titles = [['Phase', 7],\n",
    "          ['Responsible Subcontractor', 15],\n",
    "          ['Spec Section', 12],\n",
    "          ['Submittal Number', 13],\n",
    "          ['Rev.', 6], \n",
    "          ['PC', 5], \n",
    "          ['Submittal Title', 75],\n",
    "          ['Description', 15],\n",
    "          ['Ball In Court', 15],\n",
    "          ['Received Date', 12.5],\n",
    "          ['Submitted Date', 12.5],\n",
    "          ['Returned Date', 12.5], \n",
    "          ['Approved Date', 12.5],\n",
    "          ['Resubmit Date', 12.5],\n",
    "          ['Resubmit Approved Date', 12.5],\n",
    "          ['Status', 11],\n",
    "          ['Lead Time (Weeks)', 11],\n",
    "          ['ROJ Date', 12], \n",
    "          ['Submit By Date', 12.5],\n",
    "          ['LEED', 11],\n",
    "          ['Notes', 30]]"
   ]
  },
  {
   "cell_type": "code",
   "execution_count": null,
   "id": "ca2c071c",
   "metadata": {},
   "outputs": [],
   "source": [
    "worksheet.set_row(8, 56.25)\n",
    "for i in range(len(titles)):\n",
    "    submittal_log.write(8, i, titles[i][0], format_title)\n",
    "    submittal_log.set_column(i,i, titles[i][1])\n",
    "\n",
    "sub_format = workbook.add_format({\n",
    "    'bold' : True,\n",
    "    'font_color' : 'black', \n",
    "    'bg_color' : 'D9E1F2', \n",
    "    'font_name' : 'Calibri',\n",
    "    'font_size' : 16,\n",
    "    'border' : 2, \n",
    "    'align' : 'center',\n",
    "    'valign' : 'vcenter',\n",
    "    'text_wrap' : True "
   ]
  },
  {
   "cell_type": "code",
   "execution_count": null,
   "id": "9d2c3624",
   "metadata": {},
   "outputs": [],
   "source": [
    "#sub_info = f'{division}{sub}\\nCMT Engineer - {engineer}'\n",
    "sub_info = f'{sub}\\nCMT Engineer - {engineer}'\n",
    "\n",
    "\n",
    "# In[17]:\n",
    "\n",
    "\n",
    "worksheet.merge_range(0, 6, 7, 6, sub_info, sub_format)\n",
    "\n",
    "\n",
    "# In[18]:\n",
    "\n",
    "\n",
    "worksheet.freeze_panes(9, 0)\n",
    "\n",
    "\n",
    "# In[19]:\n",
    "\n",
    "\n",
    "format1 = workbook.add_format({'bg_color': '#FFC7CE',\n",
    "                           'font_color': '#9C0006'})\n",
    "\n",
    "submittal_log.conditional_format('S10:S500', {'type' : 'date',\n",
    "                                            'criteria' : '<=',\n",
    "                                            'value' : today,\n",
    "                                            'format' : format1})\n",
    "\n",
    "worksheet.set_column('B:B', None, None, {'hidden': True})"
   ]
  }
 ],
 "metadata": {
  "kernelspec": {
   "display_name": "Python 3 (ipykernel)",
   "language": "python",
   "name": "python3"
  },
  "language_info": {
   "codemirror_mode": {
    "name": "ipython",
    "version": 3
   },
   "file_extension": ".py",
   "mimetype": "text/x-python",
   "name": "python",
   "nbconvert_exporter": "python",
   "pygments_lexer": "ipython3",
   "version": "3.9.12"
  }
 },
 "nbformat": 4,
 "nbformat_minor": 5
}
