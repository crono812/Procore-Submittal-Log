{
 "cells": [
  {
   "cell_type": "code",
   "execution_count": 1,
   "id": "3287d27e",
   "metadata": {},
   "outputs": [],
   "source": [
    "import pandas as pd\n",
    "import numpy as np\n",
    "import datetime\n",
    "import os\n",
    "import procore_formatter\n",
    "import excel_creator\n",
    "import metrics"
   ]
  },
  {
   "cell_type": "code",
   "execution_count": 2,
   "id": "cb80395d",
   "metadata": {},
   "outputs": [],
   "source": [
    "raw = pd.read_csv('submittal_logs.csv')"
   ]
  },
  {
   "cell_type": "code",
   "execution_count": 3,
   "id": "cd5582e9",
   "metadata": {},
   "outputs": [
    {
     "name": "stderr",
     "output_type": "stream",
     "text": [
      "C:\\Users\\Kam Fong\\AppData\\Local\\Temp\\ipykernel_14740\\3212432046.py:2: DeprecationWarning: `np.int` is a deprecated alias for the builtin `int`. To silence this warning, use `int` by itself. Doing this will not modify any behavior and is safe. When replacing `np.int`, you may wish to use e.g. `np.int64` or `np.int32` to specify the precision. If you wish to review your current use, check the release note link for additional information.\n",
      "Deprecated in NumPy 1.20; for more details and guidance: https://numpy.org/devdocs/release/1.20.0-notes.html#deprecations\n",
      "  df['Rev.'] = df['Rev.'].astype(np.int)\n"
     ]
    }
   ],
   "source": [
    "df = procore_formatter.formatter(raw)\n",
    "df['Rev.'] = df['Rev.'].astype(np.int)"
   ]
  },
  {
   "cell_type": "code",
   "execution_count": 4,
   "id": "dbc58e0e",
   "metadata": {},
   "outputs": [],
   "source": [
    "df.to_excel('test.xlsx')"
   ]
  },
  {
   "cell_type": "code",
   "execution_count": 5,
   "id": "147517c7",
   "metadata": {},
   "outputs": [],
   "source": [
    "def engineer(contractor):\n",
    "\n",
    "    engineers = {\n",
    "        'Ronny F' : ['Fred Geller Electric', \n",
    "                       'Corporate Electric',\n",
    "                       'Societe International de Telecommunications Aeronautiques',\n",
    "                       'Boingo Wireless',\n",
    "                       'Schneider Electric',\n",
    "                       'SITA',\n",
    "                       'Iconics'],\n",
    "\n",
    "        'Paul M' : ['B&G Electric',\n",
    "                       'E-J Electric Installation Co.'],\n",
    "\n",
    "        'Andy K' : ['FCS Group',\n",
    "                       'Cassone Leasing, Inc.',\n",
    "                       'JC Elite Construction',\n",
    "                       'Lafayette Glass',\n",
    "                       'Component Assembly Systems',\n",
    "                       'Consolidated Carpet Trade Workroom',\n",
    "                       'Garcia Marble and Tile',\n",
    "                       'McKeon Door East'],\n",
    "\n",
    "        'Nancy A' : ['Center Sheet Metal',\n",
    "                        'PJ Mechanical LLC.',\n",
    "                        'Olympic Plumbing And Heating Services Inc.',\n",
    "                        'Rael Automatic Sprinkler'\n",
    "                        ],\n",
    "\n",
    "        'Brett Z' : ['Schindler Elevator Corp.',\n",
    "                            'Monpat Construction Inc.',\n",
    "                            'Aero Bridge Works',\n",
    "                            'John Bean Technologies Corporation',\n",
    "                            'ILC Dover',\n",
    "                            'W&W Glass, LLC.',\n",
    "                            'Commodore Construction Corp.',\n",
    "                            'Island International Enterprises',\n",
    "                            'Yorie Tile & Terrazzo'\n",
    "                            ],\n",
    "\n",
    "        'Rebecca J' : ['Curtis Partition Corp.',\n",
    "                        'Long Island Concrete',\n",
    "                        'Post Road Iron Works Inc.',\n",
    "                        'Long Island Concrete',\n",
    "                        'Going Sign & Servicing Co. Inc.',\n",
    "                        'Architectural Casework, Inc.',\n",
    "                        'Image Manufacturing Group',\n",
    "                        'Office Images',\n",
    "                        'Flockheart',\n",
    "                        'Nanolumens'\n",
    "                       \n",
    "                            ],\n",
    "        'Andre F' : ['Peter Scalamandre & Sons Inc',\n",
    "                     'Owen Steel Company, Inc.',\n",
    "                     'Falco Construction Corp.'\n",
    "                  ]\n",
    "    }\n",
    "    \n",
    "    for key, value in engineers.items():\n",
    "        if contractor == value:\n",
    "            return key\n",
    "        \n",
    "        elif isinstance(value, list) and contractor in value:\n",
    "            return key\n",
    "        \n",
    "    return 'Miscellaneous'"
   ]
  },
  {
   "cell_type": "code",
   "execution_count": 6,
   "id": "8c009ed4",
   "metadata": {},
   "outputs": [],
   "source": [
    "df['Responsible Contractor'] = df['Responsible Contractor'].str.replace('/', ' ')\n",
    "contractors = df['Responsible Contractor'].unique()"
   ]
  },
  {
   "cell_type": "code",
   "execution_count": 7,
   "id": "4bf109d1",
   "metadata": {},
   "outputs": [],
   "source": [
    "closeout = ['As-Built',\n",
    "           'Attic Stock',\n",
    "           'Certificate of Substantial Completion',\n",
    "           'Certificate of Final Completion',\n",
    "           'Closeouts',\n",
    "           'O&M Manual',\n",
    "           'Product Manual',\n",
    "           'Record Documents',\n",
    "           'Spare Parts List',\n",
    "           'Training Material',\n",
    "           'Warranty / Guarantee']\n",
    "\n",
    "types = df['Description'].unique()\n",
    "not_closeout = [x for x in types if x not in closeout]\n",
    "\n",
    "default_font = 'Calibri'"
   ]
  },
  {
   "cell_type": "code",
   "execution_count": 8,
   "id": "0d57d9e1",
   "metadata": {},
   "outputs": [],
   "source": [
    "today = datetime.datetime.today()\n",
    "date_folder = today.strftime(\"%Y-%m-%d\")\n",
    "directory =f'{date_folder} CIL Logs'\n",
    "if not os.path.exists(directory):\n",
    "    os.mkdir(directory)"
   ]
  },
  {
   "cell_type": "code",
   "execution_count": 9,
   "id": "8600741e",
   "metadata": {},
   "outputs": [],
   "source": [
    "rev_response = ['Reasons Given', 'LEED Only', 'and Resubmit']\n",
    "\n",
    "df1 = raw.copy()\n",
    "df1.loc[:, 'word'] = df1.loc[:, 'Response'].str.split().str[-2:]\n",
    "df1['word'] = df1.loc[:, 'word'].str.join(' ')\n",
    "rev = df1[df1['word'].isin(rev_response) &\n",
    "         df1['Status'].isin(['Closed', 'Void', 'Superseded'])].copy()"
   ]
  },
  {
   "cell_type": "code",
   "execution_count": 17,
   "id": "ca1ea376",
   "metadata": {
    "scrolled": true
   },
   "outputs": [
    {
     "name": "stderr",
     "output_type": "stream",
     "text": [
      "D:\\PROGAMMING\\Procore\\New folder\\Programs\\Submittal Log\\Personal Submittal Log V2\\metrics.py:26: SettingWithCopyWarning: \n",
      "A value is trying to be set on a copy of a slice from a DataFrame.\n",
      "Try using .loc[row_indexer,col_indexer] = value instead\n",
      "\n",
      "See the caveats in the documentation: https://pandas.pydata.org/pandas-docs/stable/user_guide/indexing.html#returning-a-view-versus-a-copy\n",
      "  df['Type'] = df['Description']\n",
      "D:\\PROGAMMING\\Procore\\New folder\\Programs\\Submittal Log\\Personal Submittal Log V2\\metrics.py:27: SettingWithCopyWarning: \n",
      "A value is trying to be set on a copy of a slice from a DataFrame.\n",
      "Try using .loc[row_indexer,col_indexer] = value instead\n",
      "\n",
      "See the caveats in the documentation: https://pandas.pydata.org/pandas-docs/stable/user_guide/indexing.html#returning-a-view-versus-a-copy\n",
      "  df['Location'] = df['Phase']\n"
     ]
    },
    {
     "name": "stdout",
     "output_type": "stream",
     "text": [
      "Peter Scalamandre & Sons Inc\n"
     ]
    },
    {
     "name": "stderr",
     "output_type": "stream",
     "text": [
      "D:\\PROGAMMING\\Procore\\New folder\\Programs\\Submittal Log\\Personal Submittal Log V2\\metrics.py:26: SettingWithCopyWarning: \n",
      "A value is trying to be set on a copy of a slice from a DataFrame.\n",
      "Try using .loc[row_indexer,col_indexer] = value instead\n",
      "\n",
      "See the caveats in the documentation: https://pandas.pydata.org/pandas-docs/stable/user_guide/indexing.html#returning-a-view-versus-a-copy\n",
      "  df['Type'] = df['Description']\n",
      "D:\\PROGAMMING\\Procore\\New folder\\Programs\\Submittal Log\\Personal Submittal Log V2\\metrics.py:27: SettingWithCopyWarning: \n",
      "A value is trying to be set on a copy of a slice from a DataFrame.\n",
      "Try using .loc[row_indexer,col_indexer] = value instead\n",
      "\n",
      "See the caveats in the documentation: https://pandas.pydata.org/pandas-docs/stable/user_guide/indexing.html#returning-a-view-versus-a-copy\n",
      "  df['Location'] = df['Phase']\n"
     ]
    },
    {
     "name": "stdout",
     "output_type": "stream",
     "text": [
      "Delta CMT\n"
     ]
    },
    {
     "name": "stderr",
     "output_type": "stream",
     "text": [
      "D:\\PROGAMMING\\Procore\\New folder\\Programs\\Submittal Log\\Personal Submittal Log V2\\metrics.py:26: SettingWithCopyWarning: \n",
      "A value is trying to be set on a copy of a slice from a DataFrame.\n",
      "Try using .loc[row_indexer,col_indexer] = value instead\n",
      "\n",
      "See the caveats in the documentation: https://pandas.pydata.org/pandas-docs/stable/user_guide/indexing.html#returning-a-view-versus-a-copy\n",
      "  df['Type'] = df['Description']\n",
      "D:\\PROGAMMING\\Procore\\New folder\\Programs\\Submittal Log\\Personal Submittal Log V2\\metrics.py:27: SettingWithCopyWarning: \n",
      "A value is trying to be set on a copy of a slice from a DataFrame.\n",
      "Try using .loc[row_indexer,col_indexer] = value instead\n",
      "\n",
      "See the caveats in the documentation: https://pandas.pydata.org/pandas-docs/stable/user_guide/indexing.html#returning-a-view-versus-a-copy\n",
      "  df['Location'] = df['Phase']\n"
     ]
    },
    {
     "name": "stdout",
     "output_type": "stream",
     "text": [
      "Skyline Steel LLC\n"
     ]
    },
    {
     "name": "stderr",
     "output_type": "stream",
     "text": [
      "D:\\PROGAMMING\\Procore\\New folder\\Programs\\Submittal Log\\Personal Submittal Log V2\\metrics.py:26: SettingWithCopyWarning: \n",
      "A value is trying to be set on a copy of a slice from a DataFrame.\n",
      "Try using .loc[row_indexer,col_indexer] = value instead\n",
      "\n",
      "See the caveats in the documentation: https://pandas.pydata.org/pandas-docs/stable/user_guide/indexing.html#returning-a-view-versus-a-copy\n",
      "  df['Type'] = df['Description']\n",
      "D:\\PROGAMMING\\Procore\\New folder\\Programs\\Submittal Log\\Personal Submittal Log V2\\metrics.py:27: SettingWithCopyWarning: \n",
      "A value is trying to be set on a copy of a slice from a DataFrame.\n",
      "Try using .loc[row_indexer,col_indexer] = value instead\n",
      "\n",
      "See the caveats in the documentation: https://pandas.pydata.org/pandas-docs/stable/user_guide/indexing.html#returning-a-view-versus-a-copy\n",
      "  df['Location'] = df['Phase']\n"
     ]
    },
    {
     "name": "stdout",
     "output_type": "stream",
     "text": [
      "Skyline Steel Corp.\n"
     ]
    },
    {
     "name": "stderr",
     "output_type": "stream",
     "text": [
      "D:\\PROGAMMING\\Procore\\New folder\\Programs\\Submittal Log\\Personal Submittal Log V2\\metrics.py:26: SettingWithCopyWarning: \n",
      "A value is trying to be set on a copy of a slice from a DataFrame.\n",
      "Try using .loc[row_indexer,col_indexer] = value instead\n",
      "\n",
      "See the caveats in the documentation: https://pandas.pydata.org/pandas-docs/stable/user_guide/indexing.html#returning-a-view-versus-a-copy\n",
      "  df['Type'] = df['Description']\n",
      "D:\\PROGAMMING\\Procore\\New folder\\Programs\\Submittal Log\\Personal Submittal Log V2\\metrics.py:27: SettingWithCopyWarning: \n",
      "A value is trying to be set on a copy of a slice from a DataFrame.\n",
      "Try using .loc[row_indexer,col_indexer] = value instead\n",
      "\n",
      "See the caveats in the documentation: https://pandas.pydata.org/pandas-docs/stable/user_guide/indexing.html#returning-a-view-versus-a-copy\n",
      "  df['Location'] = df['Phase']\n"
     ]
    },
    {
     "name": "stdout",
     "output_type": "stream",
     "text": [
      "Falco Construction Corp.\n"
     ]
    },
    {
     "name": "stderr",
     "output_type": "stream",
     "text": [
      "D:\\PROGAMMING\\Procore\\New folder\\Programs\\Submittal Log\\Personal Submittal Log V2\\metrics.py:26: SettingWithCopyWarning: \n",
      "A value is trying to be set on a copy of a slice from a DataFrame.\n",
      "Try using .loc[row_indexer,col_indexer] = value instead\n",
      "\n",
      "See the caveats in the documentation: https://pandas.pydata.org/pandas-docs/stable/user_guide/indexing.html#returning-a-view-versus-a-copy\n",
      "  df['Type'] = df['Description']\n",
      "D:\\PROGAMMING\\Procore\\New folder\\Programs\\Submittal Log\\Personal Submittal Log V2\\metrics.py:27: SettingWithCopyWarning: \n",
      "A value is trying to be set on a copy of a slice from a DataFrame.\n",
      "Try using .loc[row_indexer,col_indexer] = value instead\n",
      "\n",
      "See the caveats in the documentation: https://pandas.pydata.org/pandas-docs/stable/user_guide/indexing.html#returning-a-view-versus-a-copy\n",
      "  df['Location'] = df['Phase']\n"
     ]
    },
    {
     "name": "stdout",
     "output_type": "stream",
     "text": [
      "STV S&P, JV\n"
     ]
    },
    {
     "name": "stderr",
     "output_type": "stream",
     "text": [
      "D:\\PROGAMMING\\Procore\\New folder\\Programs\\Submittal Log\\Personal Submittal Log V2\\metrics.py:26: SettingWithCopyWarning: \n",
      "A value is trying to be set on a copy of a slice from a DataFrame.\n",
      "Try using .loc[row_indexer,col_indexer] = value instead\n",
      "\n",
      "See the caveats in the documentation: https://pandas.pydata.org/pandas-docs/stable/user_guide/indexing.html#returning-a-view-versus-a-copy\n",
      "  df['Type'] = df['Description']\n",
      "D:\\PROGAMMING\\Procore\\New folder\\Programs\\Submittal Log\\Personal Submittal Log V2\\metrics.py:27: SettingWithCopyWarning: \n",
      "A value is trying to be set on a copy of a slice from a DataFrame.\n",
      "Try using .loc[row_indexer,col_indexer] = value instead\n",
      "\n",
      "See the caveats in the documentation: https://pandas.pydata.org/pandas-docs/stable/user_guide/indexing.html#returning-a-view-versus-a-copy\n",
      "  df['Location'] = df['Phase']\n"
     ]
    },
    {
     "name": "stdout",
     "output_type": "stream",
     "text": [
      "NYCO Environmental\n"
     ]
    },
    {
     "name": "stderr",
     "output_type": "stream",
     "text": [
      "D:\\PROGAMMING\\Procore\\New folder\\Programs\\Submittal Log\\Personal Submittal Log V2\\metrics.py:26: SettingWithCopyWarning: \n",
      "A value is trying to be set on a copy of a slice from a DataFrame.\n",
      "Try using .loc[row_indexer,col_indexer] = value instead\n",
      "\n",
      "See the caveats in the documentation: https://pandas.pydata.org/pandas-docs/stable/user_guide/indexing.html#returning-a-view-versus-a-copy\n",
      "  df['Type'] = df['Description']\n",
      "D:\\PROGAMMING\\Procore\\New folder\\Programs\\Submittal Log\\Personal Submittal Log V2\\metrics.py:27: SettingWithCopyWarning: \n",
      "A value is trying to be set on a copy of a slice from a DataFrame.\n",
      "Try using .loc[row_indexer,col_indexer] = value instead\n",
      "\n",
      "See the caveats in the documentation: https://pandas.pydata.org/pandas-docs/stable/user_guide/indexing.html#returning-a-view-versus-a-copy\n",
      "  df['Location'] = df['Phase']\n"
     ]
    },
    {
     "name": "stdout",
     "output_type": "stream",
     "text": [
      "Foundation Engineering Services, D.P.C.\n"
     ]
    },
    {
     "name": "stderr",
     "output_type": "stream",
     "text": [
      "D:\\PROGAMMING\\Procore\\New folder\\Programs\\Submittal Log\\Personal Submittal Log V2\\metrics.py:26: SettingWithCopyWarning: \n",
      "A value is trying to be set on a copy of a slice from a DataFrame.\n",
      "Try using .loc[row_indexer,col_indexer] = value instead\n",
      "\n",
      "See the caveats in the documentation: https://pandas.pydata.org/pandas-docs/stable/user_guide/indexing.html#returning-a-view-versus-a-copy\n",
      "  df['Type'] = df['Description']\n",
      "D:\\PROGAMMING\\Procore\\New folder\\Programs\\Submittal Log\\Personal Submittal Log V2\\metrics.py:27: SettingWithCopyWarning: \n",
      "A value is trying to be set on a copy of a slice from a DataFrame.\n",
      "Try using .loc[row_indexer,col_indexer] = value instead\n",
      "\n",
      "See the caveats in the documentation: https://pandas.pydata.org/pandas-docs/stable/user_guide/indexing.html#returning-a-view-versus-a-copy\n",
      "  df['Location'] = df['Phase']\n"
     ]
    },
    {
     "name": "stdout",
     "output_type": "stream",
     "text": [
      "Fred Geller Electric\n"
     ]
    },
    {
     "name": "stderr",
     "output_type": "stream",
     "text": [
      "D:\\PROGAMMING\\Procore\\New folder\\Programs\\Submittal Log\\Personal Submittal Log V2\\metrics.py:26: SettingWithCopyWarning: \n",
      "A value is trying to be set on a copy of a slice from a DataFrame.\n",
      "Try using .loc[row_indexer,col_indexer] = value instead\n",
      "\n",
      "See the caveats in the documentation: https://pandas.pydata.org/pandas-docs/stable/user_guide/indexing.html#returning-a-view-versus-a-copy\n",
      "  df['Type'] = df['Description']\n",
      "D:\\PROGAMMING\\Procore\\New folder\\Programs\\Submittal Log\\Personal Submittal Log V2\\metrics.py:27: SettingWithCopyWarning: \n",
      "A value is trying to be set on a copy of a slice from a DataFrame.\n",
      "Try using .loc[row_indexer,col_indexer] = value instead\n",
      "\n",
      "See the caveats in the documentation: https://pandas.pydata.org/pandas-docs/stable/user_guide/indexing.html#returning-a-view-versus-a-copy\n",
      "  df['Location'] = df['Phase']\n"
     ]
    },
    {
     "name": "stdout",
     "output_type": "stream",
     "text": [
      "Corporate Electric\n"
     ]
    },
    {
     "name": "stderr",
     "output_type": "stream",
     "text": [
      "D:\\PROGAMMING\\Procore\\New folder\\Programs\\Submittal Log\\Personal Submittal Log V2\\metrics.py:26: SettingWithCopyWarning: \n",
      "A value is trying to be set on a copy of a slice from a DataFrame.\n",
      "Try using .loc[row_indexer,col_indexer] = value instead\n",
      "\n",
      "See the caveats in the documentation: https://pandas.pydata.org/pandas-docs/stable/user_guide/indexing.html#returning-a-view-versus-a-copy\n",
      "  df['Type'] = df['Description']\n",
      "D:\\PROGAMMING\\Procore\\New folder\\Programs\\Submittal Log\\Personal Submittal Log V2\\metrics.py:27: SettingWithCopyWarning: \n",
      "A value is trying to be set on a copy of a slice from a DataFrame.\n",
      "Try using .loc[row_indexer,col_indexer] = value instead\n",
      "\n",
      "See the caveats in the documentation: https://pandas.pydata.org/pandas-docs/stable/user_guide/indexing.html#returning-a-view-versus-a-copy\n",
      "  df['Location'] = df['Phase']\n"
     ]
    },
    {
     "name": "stdout",
     "output_type": "stream",
     "text": [
      "FCS Group\n"
     ]
    },
    {
     "name": "stderr",
     "output_type": "stream",
     "text": [
      "D:\\PROGAMMING\\Procore\\New folder\\Programs\\Submittal Log\\Personal Submittal Log V2\\metrics.py:26: SettingWithCopyWarning: \n",
      "A value is trying to be set on a copy of a slice from a DataFrame.\n",
      "Try using .loc[row_indexer,col_indexer] = value instead\n",
      "\n",
      "See the caveats in the documentation: https://pandas.pydata.org/pandas-docs/stable/user_guide/indexing.html#returning-a-view-versus-a-copy\n",
      "  df['Type'] = df['Description']\n",
      "D:\\PROGAMMING\\Procore\\New folder\\Programs\\Submittal Log\\Personal Submittal Log V2\\metrics.py:27: SettingWithCopyWarning: \n",
      "A value is trying to be set on a copy of a slice from a DataFrame.\n",
      "Try using .loc[row_indexer,col_indexer] = value instead\n",
      "\n",
      "See the caveats in the documentation: https://pandas.pydata.org/pandas-docs/stable/user_guide/indexing.html#returning-a-view-versus-a-copy\n",
      "  df['Location'] = df['Phase']\n"
     ]
    },
    {
     "name": "stdout",
     "output_type": "stream",
     "text": [
      "Iconics\n"
     ]
    },
    {
     "name": "stderr",
     "output_type": "stream",
     "text": [
      "D:\\PROGAMMING\\Procore\\New folder\\Programs\\Submittal Log\\Personal Submittal Log V2\\metrics.py:26: SettingWithCopyWarning: \n",
      "A value is trying to be set on a copy of a slice from a DataFrame.\n",
      "Try using .loc[row_indexer,col_indexer] = value instead\n",
      "\n",
      "See the caveats in the documentation: https://pandas.pydata.org/pandas-docs/stable/user_guide/indexing.html#returning-a-view-versus-a-copy\n",
      "  df['Type'] = df['Description']\n",
      "D:\\PROGAMMING\\Procore\\New folder\\Programs\\Submittal Log\\Personal Submittal Log V2\\metrics.py:27: SettingWithCopyWarning: \n",
      "A value is trying to be set on a copy of a slice from a DataFrame.\n",
      "Try using .loc[row_indexer,col_indexer] = value instead\n",
      "\n",
      "See the caveats in the documentation: https://pandas.pydata.org/pandas-docs/stable/user_guide/indexing.html#returning-a-view-versus-a-copy\n",
      "  df['Location'] = df['Phase']\n"
     ]
    },
    {
     "name": "stdout",
     "output_type": "stream",
     "text": [
      "SITA\n"
     ]
    },
    {
     "name": "stderr",
     "output_type": "stream",
     "text": [
      "D:\\PROGAMMING\\Procore\\New folder\\Programs\\Submittal Log\\Personal Submittal Log V2\\metrics.py:26: SettingWithCopyWarning: \n",
      "A value is trying to be set on a copy of a slice from a DataFrame.\n",
      "Try using .loc[row_indexer,col_indexer] = value instead\n",
      "\n",
      "See the caveats in the documentation: https://pandas.pydata.org/pandas-docs/stable/user_guide/indexing.html#returning-a-view-versus-a-copy\n",
      "  df['Type'] = df['Description']\n",
      "D:\\PROGAMMING\\Procore\\New folder\\Programs\\Submittal Log\\Personal Submittal Log V2\\metrics.py:27: SettingWithCopyWarning: \n",
      "A value is trying to be set on a copy of a slice from a DataFrame.\n",
      "Try using .loc[row_indexer,col_indexer] = value instead\n",
      "\n",
      "See the caveats in the documentation: https://pandas.pydata.org/pandas-docs/stable/user_guide/indexing.html#returning-a-view-versus-a-copy\n",
      "  df['Location'] = df['Phase']\n"
     ]
    },
    {
     "name": "stdout",
     "output_type": "stream",
     "text": [
      "Boingo Wireless\n"
     ]
    },
    {
     "name": "stderr",
     "output_type": "stream",
     "text": [
      "D:\\PROGAMMING\\Procore\\New folder\\Programs\\Submittal Log\\Personal Submittal Log V2\\metrics.py:26: SettingWithCopyWarning: \n",
      "A value is trying to be set on a copy of a slice from a DataFrame.\n",
      "Try using .loc[row_indexer,col_indexer] = value instead\n",
      "\n",
      "See the caveats in the documentation: https://pandas.pydata.org/pandas-docs/stable/user_guide/indexing.html#returning-a-view-versus-a-copy\n",
      "  df['Type'] = df['Description']\n",
      "D:\\PROGAMMING\\Procore\\New folder\\Programs\\Submittal Log\\Personal Submittal Log V2\\metrics.py:27: SettingWithCopyWarning: \n",
      "A value is trying to be set on a copy of a slice from a DataFrame.\n",
      "Try using .loc[row_indexer,col_indexer] = value instead\n",
      "\n",
      "See the caveats in the documentation: https://pandas.pydata.org/pandas-docs/stable/user_guide/indexing.html#returning-a-view-versus-a-copy\n",
      "  df['Location'] = df['Phase']\n"
     ]
    },
    {
     "name": "stdout",
     "output_type": "stream",
     "text": [
      "Infax\n"
     ]
    },
    {
     "name": "stderr",
     "output_type": "stream",
     "text": [
      "D:\\PROGAMMING\\Procore\\New folder\\Programs\\Submittal Log\\Personal Submittal Log V2\\metrics.py:26: SettingWithCopyWarning: \n",
      "A value is trying to be set on a copy of a slice from a DataFrame.\n",
      "Try using .loc[row_indexer,col_indexer] = value instead\n",
      "\n",
      "See the caveats in the documentation: https://pandas.pydata.org/pandas-docs/stable/user_guide/indexing.html#returning-a-view-versus-a-copy\n",
      "  df['Type'] = df['Description']\n",
      "D:\\PROGAMMING\\Procore\\New folder\\Programs\\Submittal Log\\Personal Submittal Log V2\\metrics.py:27: SettingWithCopyWarning: \n",
      "A value is trying to be set on a copy of a slice from a DataFrame.\n",
      "Try using .loc[row_indexer,col_indexer] = value instead\n",
      "\n",
      "See the caveats in the documentation: https://pandas.pydata.org/pandas-docs/stable/user_guide/indexing.html#returning-a-view-versus-a-copy\n",
      "  df['Location'] = df['Phase']\n"
     ]
    },
    {
     "name": "stdout",
     "output_type": "stream",
     "text": [
      "B&G Electric\n"
     ]
    },
    {
     "name": "stderr",
     "output_type": "stream",
     "text": [
      "D:\\PROGAMMING\\Procore\\New folder\\Programs\\Submittal Log\\Personal Submittal Log V2\\metrics.py:26: SettingWithCopyWarning: \n",
      "A value is trying to be set on a copy of a slice from a DataFrame.\n",
      "Try using .loc[row_indexer,col_indexer] = value instead\n",
      "\n",
      "See the caveats in the documentation: https://pandas.pydata.org/pandas-docs/stable/user_guide/indexing.html#returning-a-view-versus-a-copy\n",
      "  df['Type'] = df['Description']\n",
      "D:\\PROGAMMING\\Procore\\New folder\\Programs\\Submittal Log\\Personal Submittal Log V2\\metrics.py:27: SettingWithCopyWarning: \n",
      "A value is trying to be set on a copy of a slice from a DataFrame.\n",
      "Try using .loc[row_indexer,col_indexer] = value instead\n",
      "\n",
      "See the caveats in the documentation: https://pandas.pydata.org/pandas-docs/stable/user_guide/indexing.html#returning-a-view-versus-a-copy\n",
      "  df['Location'] = df['Phase']\n"
     ]
    },
    {
     "name": "stdout",
     "output_type": "stream",
     "text": [
      "Cassone Leasing, Inc.\n"
     ]
    },
    {
     "name": "stderr",
     "output_type": "stream",
     "text": [
      "D:\\PROGAMMING\\Procore\\New folder\\Programs\\Submittal Log\\Personal Submittal Log V2\\metrics.py:26: SettingWithCopyWarning: \n",
      "A value is trying to be set on a copy of a slice from a DataFrame.\n",
      "Try using .loc[row_indexer,col_indexer] = value instead\n",
      "\n",
      "See the caveats in the documentation: https://pandas.pydata.org/pandas-docs/stable/user_guide/indexing.html#returning-a-view-versus-a-copy\n",
      "  df['Type'] = df['Description']\n",
      "D:\\PROGAMMING\\Procore\\New folder\\Programs\\Submittal Log\\Personal Submittal Log V2\\metrics.py:27: SettingWithCopyWarning: \n",
      "A value is trying to be set on a copy of a slice from a DataFrame.\n",
      "Try using .loc[row_indexer,col_indexer] = value instead\n",
      "\n",
      "See the caveats in the documentation: https://pandas.pydata.org/pandas-docs/stable/user_guide/indexing.html#returning-a-view-versus-a-copy\n",
      "  df['Location'] = df['Phase']\n"
     ]
    },
    {
     "name": "stdout",
     "output_type": "stream",
     "text": [
      "E-J Electric Installation Co.\n"
     ]
    },
    {
     "name": "stderr",
     "output_type": "stream",
     "text": [
      "D:\\PROGAMMING\\Procore\\New folder\\Programs\\Submittal Log\\Personal Submittal Log V2\\metrics.py:26: SettingWithCopyWarning: \n",
      "A value is trying to be set on a copy of a slice from a DataFrame.\n",
      "Try using .loc[row_indexer,col_indexer] = value instead\n",
      "\n",
      "See the caveats in the documentation: https://pandas.pydata.org/pandas-docs/stable/user_guide/indexing.html#returning-a-view-versus-a-copy\n",
      "  df['Type'] = df['Description']\n",
      "D:\\PROGAMMING\\Procore\\New folder\\Programs\\Submittal Log\\Personal Submittal Log V2\\metrics.py:27: SettingWithCopyWarning: \n",
      "A value is trying to be set on a copy of a slice from a DataFrame.\n",
      "Try using .loc[row_indexer,col_indexer] = value instead\n",
      "\n",
      "See the caveats in the documentation: https://pandas.pydata.org/pandas-docs/stable/user_guide/indexing.html#returning-a-view-versus-a-copy\n",
      "  df['Location'] = df['Phase']\n"
     ]
    },
    {
     "name": "stdout",
     "output_type": "stream",
     "text": [
      "Center Sheet Metal\n"
     ]
    },
    {
     "name": "stderr",
     "output_type": "stream",
     "text": [
      "D:\\PROGAMMING\\Procore\\New folder\\Programs\\Submittal Log\\Personal Submittal Log V2\\metrics.py:26: SettingWithCopyWarning: \n",
      "A value is trying to be set on a copy of a slice from a DataFrame.\n",
      "Try using .loc[row_indexer,col_indexer] = value instead\n",
      "\n",
      "See the caveats in the documentation: https://pandas.pydata.org/pandas-docs/stable/user_guide/indexing.html#returning-a-view-versus-a-copy\n",
      "  df['Type'] = df['Description']\n",
      "D:\\PROGAMMING\\Procore\\New folder\\Programs\\Submittal Log\\Personal Submittal Log V2\\metrics.py:27: SettingWithCopyWarning: \n",
      "A value is trying to be set on a copy of a slice from a DataFrame.\n",
      "Try using .loc[row_indexer,col_indexer] = value instead\n",
      "\n",
      "See the caveats in the documentation: https://pandas.pydata.org/pandas-docs/stable/user_guide/indexing.html#returning-a-view-versus-a-copy\n",
      "  df['Location'] = df['Phase']\n"
     ]
    },
    {
     "name": "stdout",
     "output_type": "stream",
     "text": [
      "Schneider Electric\n",
      "nan\n"
     ]
    },
    {
     "name": "stderr",
     "output_type": "stream",
     "text": [
      "D:\\PROGAMMING\\Procore\\New folder\\Programs\\Submittal Log\\Personal Submittal Log V2\\metrics.py:26: SettingWithCopyWarning: \n",
      "A value is trying to be set on a copy of a slice from a DataFrame.\n",
      "Try using .loc[row_indexer,col_indexer] = value instead\n",
      "\n",
      "See the caveats in the documentation: https://pandas.pydata.org/pandas-docs/stable/user_guide/indexing.html#returning-a-view-versus-a-copy\n",
      "  df['Type'] = df['Description']\n",
      "D:\\PROGAMMING\\Procore\\New folder\\Programs\\Submittal Log\\Personal Submittal Log V2\\metrics.py:27: SettingWithCopyWarning: \n",
      "A value is trying to be set on a copy of a slice from a DataFrame.\n",
      "Try using .loc[row_indexer,col_indexer] = value instead\n",
      "\n",
      "See the caveats in the documentation: https://pandas.pydata.org/pandas-docs/stable/user_guide/indexing.html#returning-a-view-versus-a-copy\n",
      "  df['Location'] = df['Phase']\n"
     ]
    },
    {
     "name": "stdout",
     "output_type": "stream",
     "text": [
      "PJ Mechanical LLC.\n"
     ]
    },
    {
     "name": "stderr",
     "output_type": "stream",
     "text": [
      "D:\\PROGAMMING\\Procore\\New folder\\Programs\\Submittal Log\\Personal Submittal Log V2\\metrics.py:26: SettingWithCopyWarning: \n",
      "A value is trying to be set on a copy of a slice from a DataFrame.\n",
      "Try using .loc[row_indexer,col_indexer] = value instead\n",
      "\n",
      "See the caveats in the documentation: https://pandas.pydata.org/pandas-docs/stable/user_guide/indexing.html#returning-a-view-versus-a-copy\n",
      "  df['Type'] = df['Description']\n",
      "D:\\PROGAMMING\\Procore\\New folder\\Programs\\Submittal Log\\Personal Submittal Log V2\\metrics.py:27: SettingWithCopyWarning: \n",
      "A value is trying to be set on a copy of a slice from a DataFrame.\n",
      "Try using .loc[row_indexer,col_indexer] = value instead\n",
      "\n",
      "See the caveats in the documentation: https://pandas.pydata.org/pandas-docs/stable/user_guide/indexing.html#returning-a-view-versus-a-copy\n",
      "  df['Location'] = df['Phase']\n"
     ]
    },
    {
     "name": "stdout",
     "output_type": "stream",
     "text": [
      "JC Elite Construction\n"
     ]
    },
    {
     "name": "stderr",
     "output_type": "stream",
     "text": [
      "D:\\PROGAMMING\\Procore\\New folder\\Programs\\Submittal Log\\Personal Submittal Log V2\\metrics.py:26: SettingWithCopyWarning: \n",
      "A value is trying to be set on a copy of a slice from a DataFrame.\n",
      "Try using .loc[row_indexer,col_indexer] = value instead\n",
      "\n",
      "See the caveats in the documentation: https://pandas.pydata.org/pandas-docs/stable/user_guide/indexing.html#returning-a-view-versus-a-copy\n",
      "  df['Type'] = df['Description']\n",
      "D:\\PROGAMMING\\Procore\\New folder\\Programs\\Submittal Log\\Personal Submittal Log V2\\metrics.py:27: SettingWithCopyWarning: \n",
      "A value is trying to be set on a copy of a slice from a DataFrame.\n",
      "Try using .loc[row_indexer,col_indexer] = value instead\n",
      "\n",
      "See the caveats in the documentation: https://pandas.pydata.org/pandas-docs/stable/user_guide/indexing.html#returning-a-view-versus-a-copy\n",
      "  df['Location'] = df['Phase']\n"
     ]
    },
    {
     "name": "stdout",
     "output_type": "stream",
     "text": [
      "Olympic Plumbing And Heating Services Inc.\n"
     ]
    },
    {
     "name": "stderr",
     "output_type": "stream",
     "text": [
      "D:\\PROGAMMING\\Procore\\New folder\\Programs\\Submittal Log\\Personal Submittal Log V2\\metrics.py:26: SettingWithCopyWarning: \n",
      "A value is trying to be set on a copy of a slice from a DataFrame.\n",
      "Try using .loc[row_indexer,col_indexer] = value instead\n",
      "\n",
      "See the caveats in the documentation: https://pandas.pydata.org/pandas-docs/stable/user_guide/indexing.html#returning-a-view-versus-a-copy\n",
      "  df['Type'] = df['Description']\n",
      "D:\\PROGAMMING\\Procore\\New folder\\Programs\\Submittal Log\\Personal Submittal Log V2\\metrics.py:27: SettingWithCopyWarning: \n",
      "A value is trying to be set on a copy of a slice from a DataFrame.\n",
      "Try using .loc[row_indexer,col_indexer] = value instead\n",
      "\n",
      "See the caveats in the documentation: https://pandas.pydata.org/pandas-docs/stable/user_guide/indexing.html#returning-a-view-versus-a-copy\n",
      "  df['Location'] = df['Phase']\n"
     ]
    },
    {
     "name": "stdout",
     "output_type": "stream",
     "text": [
      "Rael Automatic Sprinkler\n"
     ]
    },
    {
     "name": "stderr",
     "output_type": "stream",
     "text": [
      "D:\\PROGAMMING\\Procore\\New folder\\Programs\\Submittal Log\\Personal Submittal Log V2\\metrics.py:26: SettingWithCopyWarning: \n",
      "A value is trying to be set on a copy of a slice from a DataFrame.\n",
      "Try using .loc[row_indexer,col_indexer] = value instead\n",
      "\n",
      "See the caveats in the documentation: https://pandas.pydata.org/pandas-docs/stable/user_guide/indexing.html#returning-a-view-versus-a-copy\n",
      "  df['Type'] = df['Description']\n",
      "D:\\PROGAMMING\\Procore\\New folder\\Programs\\Submittal Log\\Personal Submittal Log V2\\metrics.py:27: SettingWithCopyWarning: \n",
      "A value is trying to be set on a copy of a slice from a DataFrame.\n",
      "Try using .loc[row_indexer,col_indexer] = value instead\n",
      "\n",
      "See the caveats in the documentation: https://pandas.pydata.org/pandas-docs/stable/user_guide/indexing.html#returning-a-view-versus-a-copy\n",
      "  df['Location'] = df['Phase']\n"
     ]
    },
    {
     "name": "stdout",
     "output_type": "stream",
     "text": [
      "Schindler Elevator Corp.\n"
     ]
    },
    {
     "name": "stderr",
     "output_type": "stream",
     "text": [
      "D:\\PROGAMMING\\Procore\\New folder\\Programs\\Submittal Log\\Personal Submittal Log V2\\metrics.py:26: SettingWithCopyWarning: \n",
      "A value is trying to be set on a copy of a slice from a DataFrame.\n",
      "Try using .loc[row_indexer,col_indexer] = value instead\n",
      "\n",
      "See the caveats in the documentation: https://pandas.pydata.org/pandas-docs/stable/user_guide/indexing.html#returning-a-view-versus-a-copy\n",
      "  df['Type'] = df['Description']\n",
      "D:\\PROGAMMING\\Procore\\New folder\\Programs\\Submittal Log\\Personal Submittal Log V2\\metrics.py:27: SettingWithCopyWarning: \n",
      "A value is trying to be set on a copy of a slice from a DataFrame.\n",
      "Try using .loc[row_indexer,col_indexer] = value instead\n",
      "\n",
      "See the caveats in the documentation: https://pandas.pydata.org/pandas-docs/stable/user_guide/indexing.html#returning-a-view-versus-a-copy\n",
      "  df['Location'] = df['Phase']\n"
     ]
    },
    {
     "name": "stdout",
     "output_type": "stream",
     "text": [
      "Aero Bridge Works\n"
     ]
    },
    {
     "name": "stderr",
     "output_type": "stream",
     "text": [
      "D:\\PROGAMMING\\Procore\\New folder\\Programs\\Submittal Log\\Personal Submittal Log V2\\metrics.py:26: SettingWithCopyWarning: \n",
      "A value is trying to be set on a copy of a slice from a DataFrame.\n",
      "Try using .loc[row_indexer,col_indexer] = value instead\n",
      "\n",
      "See the caveats in the documentation: https://pandas.pydata.org/pandas-docs/stable/user_guide/indexing.html#returning-a-view-versus-a-copy\n",
      "  df['Type'] = df['Description']\n",
      "D:\\PROGAMMING\\Procore\\New folder\\Programs\\Submittal Log\\Personal Submittal Log V2\\metrics.py:27: SettingWithCopyWarning: \n",
      "A value is trying to be set on a copy of a slice from a DataFrame.\n",
      "Try using .loc[row_indexer,col_indexer] = value instead\n",
      "\n",
      "See the caveats in the documentation: https://pandas.pydata.org/pandas-docs/stable/user_guide/indexing.html#returning-a-view-versus-a-copy\n",
      "  df['Location'] = df['Phase']\n"
     ]
    },
    {
     "name": "stdout",
     "output_type": "stream",
     "text": [
      "John Bean Technologies Corporation\n"
     ]
    },
    {
     "name": "stderr",
     "output_type": "stream",
     "text": [
      "D:\\PROGAMMING\\Procore\\New folder\\Programs\\Submittal Log\\Personal Submittal Log V2\\metrics.py:26: SettingWithCopyWarning: \n",
      "A value is trying to be set on a copy of a slice from a DataFrame.\n",
      "Try using .loc[row_indexer,col_indexer] = value instead\n",
      "\n",
      "See the caveats in the documentation: https://pandas.pydata.org/pandas-docs/stable/user_guide/indexing.html#returning-a-view-versus-a-copy\n",
      "  df['Type'] = df['Description']\n",
      "D:\\PROGAMMING\\Procore\\New folder\\Programs\\Submittal Log\\Personal Submittal Log V2\\metrics.py:27: SettingWithCopyWarning: \n",
      "A value is trying to be set on a copy of a slice from a DataFrame.\n",
      "Try using .loc[row_indexer,col_indexer] = value instead\n",
      "\n",
      "See the caveats in the documentation: https://pandas.pydata.org/pandas-docs/stable/user_guide/indexing.html#returning-a-view-versus-a-copy\n",
      "  df['Location'] = df['Phase']\n"
     ]
    },
    {
     "name": "stdout",
     "output_type": "stream",
     "text": [
      "Lafayette Glass\n"
     ]
    },
    {
     "name": "stderr",
     "output_type": "stream",
     "text": [
      "D:\\PROGAMMING\\Procore\\New folder\\Programs\\Submittal Log\\Personal Submittal Log V2\\metrics.py:26: SettingWithCopyWarning: \n",
      "A value is trying to be set on a copy of a slice from a DataFrame.\n",
      "Try using .loc[row_indexer,col_indexer] = value instead\n",
      "\n",
      "See the caveats in the documentation: https://pandas.pydata.org/pandas-docs/stable/user_guide/indexing.html#returning-a-view-versus-a-copy\n",
      "  df['Type'] = df['Description']\n",
      "D:\\PROGAMMING\\Procore\\New folder\\Programs\\Submittal Log\\Personal Submittal Log V2\\metrics.py:27: SettingWithCopyWarning: \n",
      "A value is trying to be set on a copy of a slice from a DataFrame.\n",
      "Try using .loc[row_indexer,col_indexer] = value instead\n",
      "\n",
      "See the caveats in the documentation: https://pandas.pydata.org/pandas-docs/stable/user_guide/indexing.html#returning-a-view-versus-a-copy\n",
      "  df['Location'] = df['Phase']\n"
     ]
    },
    {
     "name": "stdout",
     "output_type": "stream",
     "text": [
      "Curtis Partition Corp.\n"
     ]
    },
    {
     "name": "stderr",
     "output_type": "stream",
     "text": [
      "D:\\PROGAMMING\\Procore\\New folder\\Programs\\Submittal Log\\Personal Submittal Log V2\\metrics.py:26: SettingWithCopyWarning: \n",
      "A value is trying to be set on a copy of a slice from a DataFrame.\n",
      "Try using .loc[row_indexer,col_indexer] = value instead\n",
      "\n",
      "See the caveats in the documentation: https://pandas.pydata.org/pandas-docs/stable/user_guide/indexing.html#returning-a-view-versus-a-copy\n",
      "  df['Type'] = df['Description']\n",
      "D:\\PROGAMMING\\Procore\\New folder\\Programs\\Submittal Log\\Personal Submittal Log V2\\metrics.py:27: SettingWithCopyWarning: \n",
      "A value is trying to be set on a copy of a slice from a DataFrame.\n",
      "Try using .loc[row_indexer,col_indexer] = value instead\n",
      "\n",
      "See the caveats in the documentation: https://pandas.pydata.org/pandas-docs/stable/user_guide/indexing.html#returning-a-view-versus-a-copy\n",
      "  df['Location'] = df['Phase']\n"
     ]
    },
    {
     "name": "stdout",
     "output_type": "stream",
     "text": [
      "Component Assembly Systems\n"
     ]
    },
    {
     "name": "stderr",
     "output_type": "stream",
     "text": [
      "D:\\PROGAMMING\\Procore\\New folder\\Programs\\Submittal Log\\Personal Submittal Log V2\\metrics.py:26: SettingWithCopyWarning: \n",
      "A value is trying to be set on a copy of a slice from a DataFrame.\n",
      "Try using .loc[row_indexer,col_indexer] = value instead\n",
      "\n",
      "See the caveats in the documentation: https://pandas.pydata.org/pandas-docs/stable/user_guide/indexing.html#returning-a-view-versus-a-copy\n",
      "  df['Type'] = df['Description']\n",
      "D:\\PROGAMMING\\Procore\\New folder\\Programs\\Submittal Log\\Personal Submittal Log V2\\metrics.py:27: SettingWithCopyWarning: \n",
      "A value is trying to be set on a copy of a slice from a DataFrame.\n",
      "Try using .loc[row_indexer,col_indexer] = value instead\n",
      "\n",
      "See the caveats in the documentation: https://pandas.pydata.org/pandas-docs/stable/user_guide/indexing.html#returning-a-view-versus-a-copy\n",
      "  df['Location'] = df['Phase']\n"
     ]
    },
    {
     "name": "stdout",
     "output_type": "stream",
     "text": [
      "Going Sign & Servicing Co. Inc.\n"
     ]
    },
    {
     "name": "stderr",
     "output_type": "stream",
     "text": [
      "D:\\PROGAMMING\\Procore\\New folder\\Programs\\Submittal Log\\Personal Submittal Log V2\\metrics.py:26: SettingWithCopyWarning: \n",
      "A value is trying to be set on a copy of a slice from a DataFrame.\n",
      "Try using .loc[row_indexer,col_indexer] = value instead\n",
      "\n",
      "See the caveats in the documentation: https://pandas.pydata.org/pandas-docs/stable/user_guide/indexing.html#returning-a-view-versus-a-copy\n",
      "  df['Type'] = df['Description']\n",
      "D:\\PROGAMMING\\Procore\\New folder\\Programs\\Submittal Log\\Personal Submittal Log V2\\metrics.py:27: SettingWithCopyWarning: \n",
      "A value is trying to be set on a copy of a slice from a DataFrame.\n",
      "Try using .loc[row_indexer,col_indexer] = value instead\n",
      "\n",
      "See the caveats in the documentation: https://pandas.pydata.org/pandas-docs/stable/user_guide/indexing.html#returning-a-view-versus-a-copy\n",
      "  df['Location'] = df['Phase']\n"
     ]
    },
    {
     "name": "stdout",
     "output_type": "stream",
     "text": [
      "Consolidated Carpet Trade Workroom\n"
     ]
    },
    {
     "name": "stderr",
     "output_type": "stream",
     "text": [
      "D:\\PROGAMMING\\Procore\\New folder\\Programs\\Submittal Log\\Personal Submittal Log V2\\metrics.py:26: SettingWithCopyWarning: \n",
      "A value is trying to be set on a copy of a slice from a DataFrame.\n",
      "Try using .loc[row_indexer,col_indexer] = value instead\n",
      "\n",
      "See the caveats in the documentation: https://pandas.pydata.org/pandas-docs/stable/user_guide/indexing.html#returning-a-view-versus-a-copy\n",
      "  df['Type'] = df['Description']\n",
      "D:\\PROGAMMING\\Procore\\New folder\\Programs\\Submittal Log\\Personal Submittal Log V2\\metrics.py:27: SettingWithCopyWarning: \n",
      "A value is trying to be set on a copy of a slice from a DataFrame.\n",
      "Try using .loc[row_indexer,col_indexer] = value instead\n",
      "\n",
      "See the caveats in the documentation: https://pandas.pydata.org/pandas-docs/stable/user_guide/indexing.html#returning-a-view-versus-a-copy\n",
      "  df['Location'] = df['Phase']\n"
     ]
    },
    {
     "name": "stdout",
     "output_type": "stream",
     "text": [
      "Yorie Tile & Terrazzo\n"
     ]
    },
    {
     "name": "stderr",
     "output_type": "stream",
     "text": [
      "D:\\PROGAMMING\\Procore\\New folder\\Programs\\Submittal Log\\Personal Submittal Log V2\\metrics.py:26: SettingWithCopyWarning: \n",
      "A value is trying to be set on a copy of a slice from a DataFrame.\n",
      "Try using .loc[row_indexer,col_indexer] = value instead\n",
      "\n",
      "See the caveats in the documentation: https://pandas.pydata.org/pandas-docs/stable/user_guide/indexing.html#returning-a-view-versus-a-copy\n",
      "  df['Type'] = df['Description']\n",
      "D:\\PROGAMMING\\Procore\\New folder\\Programs\\Submittal Log\\Personal Submittal Log V2\\metrics.py:27: SettingWithCopyWarning: \n",
      "A value is trying to be set on a copy of a slice from a DataFrame.\n",
      "Try using .loc[row_indexer,col_indexer] = value instead\n",
      "\n",
      "See the caveats in the documentation: https://pandas.pydata.org/pandas-docs/stable/user_guide/indexing.html#returning-a-view-versus-a-copy\n",
      "  df['Location'] = df['Phase']\n"
     ]
    },
    {
     "name": "stdout",
     "output_type": "stream",
     "text": [
      "Garcia Marble and Tile\n"
     ]
    },
    {
     "name": "stderr",
     "output_type": "stream",
     "text": [
      "D:\\PROGAMMING\\Procore\\New folder\\Programs\\Submittal Log\\Personal Submittal Log V2\\metrics.py:26: SettingWithCopyWarning: \n",
      "A value is trying to be set on a copy of a slice from a DataFrame.\n",
      "Try using .loc[row_indexer,col_indexer] = value instead\n",
      "\n",
      "See the caveats in the documentation: https://pandas.pydata.org/pandas-docs/stable/user_guide/indexing.html#returning-a-view-versus-a-copy\n",
      "  df['Type'] = df['Description']\n",
      "D:\\PROGAMMING\\Procore\\New folder\\Programs\\Submittal Log\\Personal Submittal Log V2\\metrics.py:27: SettingWithCopyWarning: \n",
      "A value is trying to be set on a copy of a slice from a DataFrame.\n",
      "Try using .loc[row_indexer,col_indexer] = value instead\n",
      "\n",
      "See the caveats in the documentation: https://pandas.pydata.org/pandas-docs/stable/user_guide/indexing.html#returning-a-view-versus-a-copy\n",
      "  df['Location'] = df['Phase']\n"
     ]
    },
    {
     "name": "stdout",
     "output_type": "stream",
     "text": [
      "W&W Glass, LLC.\n"
     ]
    },
    {
     "name": "stderr",
     "output_type": "stream",
     "text": [
      "D:\\PROGAMMING\\Procore\\New folder\\Programs\\Submittal Log\\Personal Submittal Log V2\\metrics.py:26: SettingWithCopyWarning: \n",
      "A value is trying to be set on a copy of a slice from a DataFrame.\n",
      "Try using .loc[row_indexer,col_indexer] = value instead\n",
      "\n",
      "See the caveats in the documentation: https://pandas.pydata.org/pandas-docs/stable/user_guide/indexing.html#returning-a-view-versus-a-copy\n",
      "  df['Type'] = df['Description']\n",
      "D:\\PROGAMMING\\Procore\\New folder\\Programs\\Submittal Log\\Personal Submittal Log V2\\metrics.py:27: SettingWithCopyWarning: \n",
      "A value is trying to be set on a copy of a slice from a DataFrame.\n",
      "Try using .loc[row_indexer,col_indexer] = value instead\n",
      "\n",
      "See the caveats in the documentation: https://pandas.pydata.org/pandas-docs/stable/user_guide/indexing.html#returning-a-view-versus-a-copy\n",
      "  df['Location'] = df['Phase']\n"
     ]
    },
    {
     "name": "stdout",
     "output_type": "stream",
     "text": [
      "Commodore Construction Corp.\n"
     ]
    },
    {
     "name": "stderr",
     "output_type": "stream",
     "text": [
      "D:\\PROGAMMING\\Procore\\New folder\\Programs\\Submittal Log\\Personal Submittal Log V2\\metrics.py:26: SettingWithCopyWarning: \n",
      "A value is trying to be set on a copy of a slice from a DataFrame.\n",
      "Try using .loc[row_indexer,col_indexer] = value instead\n",
      "\n",
      "See the caveats in the documentation: https://pandas.pydata.org/pandas-docs/stable/user_guide/indexing.html#returning-a-view-versus-a-copy\n",
      "  df['Type'] = df['Description']\n",
      "D:\\PROGAMMING\\Procore\\New folder\\Programs\\Submittal Log\\Personal Submittal Log V2\\metrics.py:27: SettingWithCopyWarning: \n",
      "A value is trying to be set on a copy of a slice from a DataFrame.\n",
      "Try using .loc[row_indexer,col_indexer] = value instead\n",
      "\n",
      "See the caveats in the documentation: https://pandas.pydata.org/pandas-docs/stable/user_guide/indexing.html#returning-a-view-versus-a-copy\n",
      "  df['Location'] = df['Phase']\n"
     ]
    },
    {
     "name": "stdout",
     "output_type": "stream",
     "text": [
      "ILC Dover\n"
     ]
    },
    {
     "name": "stderr",
     "output_type": "stream",
     "text": [
      "D:\\PROGAMMING\\Procore\\New folder\\Programs\\Submittal Log\\Personal Submittal Log V2\\metrics.py:26: SettingWithCopyWarning: \n",
      "A value is trying to be set on a copy of a slice from a DataFrame.\n",
      "Try using .loc[row_indexer,col_indexer] = value instead\n",
      "\n",
      "See the caveats in the documentation: https://pandas.pydata.org/pandas-docs/stable/user_guide/indexing.html#returning-a-view-versus-a-copy\n",
      "  df['Type'] = df['Description']\n",
      "D:\\PROGAMMING\\Procore\\New folder\\Programs\\Submittal Log\\Personal Submittal Log V2\\metrics.py:27: SettingWithCopyWarning: \n",
      "A value is trying to be set on a copy of a slice from a DataFrame.\n",
      "Try using .loc[row_indexer,col_indexer] = value instead\n",
      "\n",
      "See the caveats in the documentation: https://pandas.pydata.org/pandas-docs/stable/user_guide/indexing.html#returning-a-view-versus-a-copy\n",
      "  df['Location'] = df['Phase']\n"
     ]
    },
    {
     "name": "stdout",
     "output_type": "stream",
     "text": [
      "McKeon Door East\n"
     ]
    },
    {
     "name": "stderr",
     "output_type": "stream",
     "text": [
      "D:\\PROGAMMING\\Procore\\New folder\\Programs\\Submittal Log\\Personal Submittal Log V2\\metrics.py:26: SettingWithCopyWarning: \n",
      "A value is trying to be set on a copy of a slice from a DataFrame.\n",
      "Try using .loc[row_indexer,col_indexer] = value instead\n",
      "\n",
      "See the caveats in the documentation: https://pandas.pydata.org/pandas-docs/stable/user_guide/indexing.html#returning-a-view-versus-a-copy\n",
      "  df['Type'] = df['Description']\n",
      "D:\\PROGAMMING\\Procore\\New folder\\Programs\\Submittal Log\\Personal Submittal Log V2\\metrics.py:27: SettingWithCopyWarning: \n",
      "A value is trying to be set on a copy of a slice from a DataFrame.\n",
      "Try using .loc[row_indexer,col_indexer] = value instead\n",
      "\n",
      "See the caveats in the documentation: https://pandas.pydata.org/pandas-docs/stable/user_guide/indexing.html#returning-a-view-versus-a-copy\n",
      "  df['Location'] = df['Phase']\n"
     ]
    },
    {
     "name": "stdout",
     "output_type": "stream",
     "text": [
      "Long Island Concrete\n"
     ]
    },
    {
     "name": "stderr",
     "output_type": "stream",
     "text": [
      "D:\\PROGAMMING\\Procore\\New folder\\Programs\\Submittal Log\\Personal Submittal Log V2\\metrics.py:26: SettingWithCopyWarning: \n",
      "A value is trying to be set on a copy of a slice from a DataFrame.\n",
      "Try using .loc[row_indexer,col_indexer] = value instead\n",
      "\n",
      "See the caveats in the documentation: https://pandas.pydata.org/pandas-docs/stable/user_guide/indexing.html#returning-a-view-versus-a-copy\n",
      "  df['Type'] = df['Description']\n",
      "D:\\PROGAMMING\\Procore\\New folder\\Programs\\Submittal Log\\Personal Submittal Log V2\\metrics.py:27: SettingWithCopyWarning: \n",
      "A value is trying to be set on a copy of a slice from a DataFrame.\n",
      "Try using .loc[row_indexer,col_indexer] = value instead\n",
      "\n",
      "See the caveats in the documentation: https://pandas.pydata.org/pandas-docs/stable/user_guide/indexing.html#returning-a-view-versus-a-copy\n",
      "  df['Location'] = df['Phase']\n"
     ]
    },
    {
     "name": "stdout",
     "output_type": "stream",
     "text": [
      "Island International Enterprises\n"
     ]
    },
    {
     "name": "stderr",
     "output_type": "stream",
     "text": [
      "D:\\PROGAMMING\\Procore\\New folder\\Programs\\Submittal Log\\Personal Submittal Log V2\\metrics.py:26: SettingWithCopyWarning: \n",
      "A value is trying to be set on a copy of a slice from a DataFrame.\n",
      "Try using .loc[row_indexer,col_indexer] = value instead\n",
      "\n",
      "See the caveats in the documentation: https://pandas.pydata.org/pandas-docs/stable/user_guide/indexing.html#returning-a-view-versus-a-copy\n",
      "  df['Type'] = df['Description']\n",
      "D:\\PROGAMMING\\Procore\\New folder\\Programs\\Submittal Log\\Personal Submittal Log V2\\metrics.py:27: SettingWithCopyWarning: \n",
      "A value is trying to be set on a copy of a slice from a DataFrame.\n",
      "Try using .loc[row_indexer,col_indexer] = value instead\n",
      "\n",
      "See the caveats in the documentation: https://pandas.pydata.org/pandas-docs/stable/user_guide/indexing.html#returning-a-view-versus-a-copy\n",
      "  df['Location'] = df['Phase']\n"
     ]
    },
    {
     "name": "stdout",
     "output_type": "stream",
     "text": [
      "Owen Steel Company, Inc.\n"
     ]
    },
    {
     "name": "stderr",
     "output_type": "stream",
     "text": [
      "D:\\PROGAMMING\\Procore\\New folder\\Programs\\Submittal Log\\Personal Submittal Log V2\\metrics.py:26: SettingWithCopyWarning: \n",
      "A value is trying to be set on a copy of a slice from a DataFrame.\n",
      "Try using .loc[row_indexer,col_indexer] = value instead\n",
      "\n",
      "See the caveats in the documentation: https://pandas.pydata.org/pandas-docs/stable/user_guide/indexing.html#returning-a-view-versus-a-copy\n",
      "  df['Type'] = df['Description']\n",
      "D:\\PROGAMMING\\Procore\\New folder\\Programs\\Submittal Log\\Personal Submittal Log V2\\metrics.py:27: SettingWithCopyWarning: \n",
      "A value is trying to be set on a copy of a slice from a DataFrame.\n",
      "Try using .loc[row_indexer,col_indexer] = value instead\n",
      "\n",
      "See the caveats in the documentation: https://pandas.pydata.org/pandas-docs/stable/user_guide/indexing.html#returning-a-view-versus-a-copy\n",
      "  df['Location'] = df['Phase']\n"
     ]
    },
    {
     "name": "stdout",
     "output_type": "stream",
     "text": [
      "Monpat Construction Inc.\n"
     ]
    },
    {
     "name": "stderr",
     "output_type": "stream",
     "text": [
      "D:\\PROGAMMING\\Procore\\New folder\\Programs\\Submittal Log\\Personal Submittal Log V2\\metrics.py:26: SettingWithCopyWarning: \n",
      "A value is trying to be set on a copy of a slice from a DataFrame.\n",
      "Try using .loc[row_indexer,col_indexer] = value instead\n",
      "\n",
      "See the caveats in the documentation: https://pandas.pydata.org/pandas-docs/stable/user_guide/indexing.html#returning-a-view-versus-a-copy\n",
      "  df['Type'] = df['Description']\n",
      "D:\\PROGAMMING\\Procore\\New folder\\Programs\\Submittal Log\\Personal Submittal Log V2\\metrics.py:27: SettingWithCopyWarning: \n",
      "A value is trying to be set on a copy of a slice from a DataFrame.\n",
      "Try using .loc[row_indexer,col_indexer] = value instead\n",
      "\n",
      "See the caveats in the documentation: https://pandas.pydata.org/pandas-docs/stable/user_guide/indexing.html#returning-a-view-versus-a-copy\n",
      "  df['Location'] = df['Phase']\n"
     ]
    },
    {
     "name": "stdout",
     "output_type": "stream",
     "text": [
      "Kusch + Co\n"
     ]
    },
    {
     "name": "stderr",
     "output_type": "stream",
     "text": [
      "D:\\PROGAMMING\\Procore\\New folder\\Programs\\Submittal Log\\Personal Submittal Log V2\\metrics.py:26: SettingWithCopyWarning: \n",
      "A value is trying to be set on a copy of a slice from a DataFrame.\n",
      "Try using .loc[row_indexer,col_indexer] = value instead\n",
      "\n",
      "See the caveats in the documentation: https://pandas.pydata.org/pandas-docs/stable/user_guide/indexing.html#returning-a-view-versus-a-copy\n",
      "  df['Type'] = df['Description']\n",
      "D:\\PROGAMMING\\Procore\\New folder\\Programs\\Submittal Log\\Personal Submittal Log V2\\metrics.py:27: SettingWithCopyWarning: \n",
      "A value is trying to be set on a copy of a slice from a DataFrame.\n",
      "Try using .loc[row_indexer,col_indexer] = value instead\n",
      "\n",
      "See the caveats in the documentation: https://pandas.pydata.org/pandas-docs/stable/user_guide/indexing.html#returning-a-view-versus-a-copy\n",
      "  df['Location'] = df['Phase']\n"
     ]
    },
    {
     "name": "stdout",
     "output_type": "stream",
     "text": [
      "Image Manufacturing Group\n"
     ]
    },
    {
     "name": "stderr",
     "output_type": "stream",
     "text": [
      "D:\\PROGAMMING\\Procore\\New folder\\Programs\\Submittal Log\\Personal Submittal Log V2\\metrics.py:26: SettingWithCopyWarning: \n",
      "A value is trying to be set on a copy of a slice from a DataFrame.\n",
      "Try using .loc[row_indexer,col_indexer] = value instead\n",
      "\n",
      "See the caveats in the documentation: https://pandas.pydata.org/pandas-docs/stable/user_guide/indexing.html#returning-a-view-versus-a-copy\n",
      "  df['Type'] = df['Description']\n",
      "D:\\PROGAMMING\\Procore\\New folder\\Programs\\Submittal Log\\Personal Submittal Log V2\\metrics.py:27: SettingWithCopyWarning: \n",
      "A value is trying to be set on a copy of a slice from a DataFrame.\n",
      "Try using .loc[row_indexer,col_indexer] = value instead\n",
      "\n",
      "See the caveats in the documentation: https://pandas.pydata.org/pandas-docs/stable/user_guide/indexing.html#returning-a-view-versus-a-copy\n",
      "  df['Location'] = df['Phase']\n"
     ]
    },
    {
     "name": "stdout",
     "output_type": "stream",
     "text": [
      "Office Images\n"
     ]
    },
    {
     "name": "stderr",
     "output_type": "stream",
     "text": [
      "D:\\PROGAMMING\\Procore\\New folder\\Programs\\Submittal Log\\Personal Submittal Log V2\\metrics.py:26: SettingWithCopyWarning: \n",
      "A value is trying to be set on a copy of a slice from a DataFrame.\n",
      "Try using .loc[row_indexer,col_indexer] = value instead\n",
      "\n",
      "See the caveats in the documentation: https://pandas.pydata.org/pandas-docs/stable/user_guide/indexing.html#returning-a-view-versus-a-copy\n",
      "  df['Type'] = df['Description']\n",
      "D:\\PROGAMMING\\Procore\\New folder\\Programs\\Submittal Log\\Personal Submittal Log V2\\metrics.py:27: SettingWithCopyWarning: \n",
      "A value is trying to be set on a copy of a slice from a DataFrame.\n",
      "Try using .loc[row_indexer,col_indexer] = value instead\n",
      "\n",
      "See the caveats in the documentation: https://pandas.pydata.org/pandas-docs/stable/user_guide/indexing.html#returning-a-view-versus-a-copy\n",
      "  df['Location'] = df['Phase']\n"
     ]
    },
    {
     "name": "stdout",
     "output_type": "stream",
     "text": [
      "Flockheart\n"
     ]
    },
    {
     "name": "stderr",
     "output_type": "stream",
     "text": [
      "D:\\PROGAMMING\\Procore\\New folder\\Programs\\Submittal Log\\Personal Submittal Log V2\\metrics.py:26: SettingWithCopyWarning: \n",
      "A value is trying to be set on a copy of a slice from a DataFrame.\n",
      "Try using .loc[row_indexer,col_indexer] = value instead\n",
      "\n",
      "See the caveats in the documentation: https://pandas.pydata.org/pandas-docs/stable/user_guide/indexing.html#returning-a-view-versus-a-copy\n",
      "  df['Type'] = df['Description']\n",
      "D:\\PROGAMMING\\Procore\\New folder\\Programs\\Submittal Log\\Personal Submittal Log V2\\metrics.py:27: SettingWithCopyWarning: \n",
      "A value is trying to be set on a copy of a slice from a DataFrame.\n",
      "Try using .loc[row_indexer,col_indexer] = value instead\n",
      "\n",
      "See the caveats in the documentation: https://pandas.pydata.org/pandas-docs/stable/user_guide/indexing.html#returning-a-view-versus-a-copy\n",
      "  df['Location'] = df['Phase']\n"
     ]
    },
    {
     "name": "stdout",
     "output_type": "stream",
     "text": [
      "Architectural Casework, Inc.\n"
     ]
    },
    {
     "name": "stderr",
     "output_type": "stream",
     "text": [
      "D:\\PROGAMMING\\Procore\\New folder\\Programs\\Submittal Log\\Personal Submittal Log V2\\metrics.py:26: SettingWithCopyWarning: \n",
      "A value is trying to be set on a copy of a slice from a DataFrame.\n",
      "Try using .loc[row_indexer,col_indexer] = value instead\n",
      "\n",
      "See the caveats in the documentation: https://pandas.pydata.org/pandas-docs/stable/user_guide/indexing.html#returning-a-view-versus-a-copy\n",
      "  df['Type'] = df['Description']\n",
      "D:\\PROGAMMING\\Procore\\New folder\\Programs\\Submittal Log\\Personal Submittal Log V2\\metrics.py:27: SettingWithCopyWarning: \n",
      "A value is trying to be set on a copy of a slice from a DataFrame.\n",
      "Try using .loc[row_indexer,col_indexer] = value instead\n",
      "\n",
      "See the caveats in the documentation: https://pandas.pydata.org/pandas-docs/stable/user_guide/indexing.html#returning-a-view-versus-a-copy\n",
      "  df['Location'] = df['Phase']\n"
     ]
    },
    {
     "name": "stdout",
     "output_type": "stream",
     "text": [
      "Post Road Iron Works Inc.\n"
     ]
    },
    {
     "name": "stderr",
     "output_type": "stream",
     "text": [
      "D:\\PROGAMMING\\Procore\\New folder\\Programs\\Submittal Log\\Personal Submittal Log V2\\metrics.py:26: SettingWithCopyWarning: \n",
      "A value is trying to be set on a copy of a slice from a DataFrame.\n",
      "Try using .loc[row_indexer,col_indexer] = value instead\n",
      "\n",
      "See the caveats in the documentation: https://pandas.pydata.org/pandas-docs/stable/user_guide/indexing.html#returning-a-view-versus-a-copy\n",
      "  df['Type'] = df['Description']\n",
      "D:\\PROGAMMING\\Procore\\New folder\\Programs\\Submittal Log\\Personal Submittal Log V2\\metrics.py:27: SettingWithCopyWarning: \n",
      "A value is trying to be set on a copy of a slice from a DataFrame.\n",
      "Try using .loc[row_indexer,col_indexer] = value instead\n",
      "\n",
      "See the caveats in the documentation: https://pandas.pydata.org/pandas-docs/stable/user_guide/indexing.html#returning-a-view-versus-a-copy\n",
      "  df['Location'] = df['Phase']\n"
     ]
    },
    {
     "name": "stdout",
     "output_type": "stream",
     "text": [
      "Nanolumens\n"
     ]
    }
   ],
   "source": [
    "\n",
    "for i in range(len(contractors)):\n",
    "    \n",
    "    data = df[df['Responsible Contractor'] == contractors[i]]\n",
    "    name = engineer(contractors[i])\n",
    "    \n",
    "    name_directory = directory + f'/{name}'\n",
    "    if not os.path.exists(name_directory):\n",
    "        os.mkdir(name_directory)\n",
    "        \n",
    "    writer = pd.ExcelWriter(f'{name_directory}/{contractors[i]} CIL Log {date_folder}.xlsx', \n",
    "                        engine = 'xlsxwriter',\n",
    "                        date_format = 'mm-dd-yyyy', \n",
    "                        datetime_format='mm-dd-yyyy')\n",
    "    workbook = writer.book\n",
    "    \n",
    "    data.to_excel(writer,\n",
    "                 sheet_name = 'Submittals Master Log',\n",
    "                 index = False,\n",
    "                 startrow = 8)\n",
    "    submittal_log = writer.sheets['Submittals Master Log']\n",
    "    excel_creator.generate_worksheet(data, name, contractors[i], workbook, submittal_log)\n",
    "    \n",
    "    number_total_format = workbook.add_format({\n",
    "    'bold' : True,\n",
    "    'font_color' : 'black', \n",
    "    'font_size' : 11,\n",
    "    'font_name' : default_font, \n",
    "    'align' : 'center',\n",
    "    'valign' : 'vcenter', \n",
    "    'border' : 1,\n",
    "    'num_format' : '#,##0'\n",
    "    })\n",
    "\n",
    "    percent_format = workbook.add_format({\n",
    "        'bold' : False,\n",
    "        'font_color' : 'black', \n",
    "        'font_size' : 11,\n",
    "        'font_name' : default_font, \n",
    "        'align' : 'center',\n",
    "        'valign' : 'vcenter', \n",
    "        'border' : 1,\n",
    "        'num_format' : '0.00%'\n",
    "    })\n",
    "    \n",
    "    submittal_log.write('J1', 'North #')\n",
    "    submittal_log.write('K1', 'North %')\n",
    "    submittal_log.write('L1', 'South #')\n",
    "    submittal_log.write('M1', 'South %')\n",
    "    submittal_log.write('I2', 'Total')\n",
    "    submittal_log.write('I3', 'Open')\n",
    "    submittal_log.write('I4', 'Closeout')\n",
    "    submittal_log.write('I5', 'Design Team')\n",
    "    submittal_log.write('I6', 'R&R')\n",
    "    submittal_log.write('I7', 'R&R LEED')\n",
    "    submittal_log.write('I8', 'Closed')\n",
    "    \n",
    "    north_metrics = metrics.metrics(data, ['N', 'N/S'])\n",
    "    total = 0\n",
    "    for key in north_metrics:\n",
    "        total = total + north_metrics[key][1]\n",
    "    \n",
    "    submittal_log.write('J2', total, number_total_format)\n",
    "    if total == 0:\n",
    "        total = 1 \n",
    "        \n",
    "    row = 2\n",
    "    for key in north_metrics:\n",
    "        submittal_log.write(row, 9, north_metrics[key][1], number_total_format)\n",
    "        submittal_log.write(row, 10, north_metrics[key][1]/total, percent_format)\n",
    "        row = row + 1\n",
    "        \n",
    "        \n",
    "    south_metrics = metrics.metrics(data, ['S'])\n",
    "    total = 0\n",
    "    for key in south_metrics:\n",
    "        total = total + south_metrics[key][1]\n",
    "\n",
    "        \n",
    "    submittal_log.write('L2', total, number_total_format)\n",
    "    if total == 0:\n",
    "        total = 1  \n",
    "        \n",
    "    row = 2\n",
    "    for key in south_metrics:\n",
    "        submittal_log.write(row, 11, south_metrics[key][1], number_total_format)\n",
    "        submittal_log.write(row, 12, south_metrics[key][1]/total, percent_format)\n",
    "        row = row + 1\n",
    "        \n",
    "     \n",
    "    \n",
    "    #BIC Design Team\n",
    "    pending = data[(data['Status'].isin(['Open', 'Pending', 'Draft'])) &\n",
    "                (data['Ball In Court'].str.contains('P022', na = False))]\n",
    "    pending.to_excel(writer,\n",
    "                 sheet_name = 'BIC Design Team',\n",
    "                 index = False,\n",
    "                 startrow = 8)\n",
    "    submittal_log = writer.sheets['BIC Design Team']\n",
    "    excel_creator.generate_worksheet(pending, name, contractors[i], workbook, submittal_log)    \n",
    "    \n",
    "    #North Open Submittals\n",
    "    north = data[(data['Status'].isin(['Open', 'Pending', 'Draft'])) &\n",
    "                (data['Phase'].str.contains('N', na = False)) &\n",
    "                (~data['Ball In Court'].str.contains('P022', na = False))]\n",
    "    north.to_excel(writer,\n",
    "                 sheet_name = 'North Open Items',\n",
    "                 index = False,\n",
    "                 startrow = 8)\n",
    "    submittal_log = writer.sheets['North Open Items']\n",
    "    excel_creator.generate_worksheet(north, name, contractors[i], workbook, submittal_log)\n",
    "    \n",
    "    \n",
    "    #South Open Submittals\n",
    "    south = data[(data['Status'].isin(['Open', 'Pending', 'Draft'])) &\n",
    "                (data['Phase'].str.contains('S', na = False)) &\n",
    "                (~data['Ball In Court'].str.contains('P022', na = False))]\n",
    "    south.to_excel(writer,\n",
    "                 sheet_name = 'South Open Items',\n",
    "                 index = False,\n",
    "                 startrow = 8)\n",
    "    submittal_log = writer.sheets['South Open Items']\n",
    "    excel_creator.generate_worksheet(south, name, contractors[i], workbook, submittal_log)\n",
    "    \n",
    "    \n",
    "    #R&R Submissions \n",
    "    revise = data[(data['Status'].isin(['Open', 'Pending', 'Draft'])) &\n",
    "                (data['Rev.'] != 0) &\n",
    "                (~data['Ball In Court'].str.contains('P022', na = False))]\n",
    "    revise.to_excel(writer,\n",
    "                 sheet_name = 'R&R Submittals',\n",
    "                 index = False,\n",
    "                 startrow = 8)\n",
    "    submittal_log = writer.sheets['R&R Submittals']\n",
    "    excel_creator.generate_worksheet(revise, name, contractors[i], workbook, submittal_log)\n",
    "    \n",
    "    \n",
    "    \n",
    "    #Missed Submissions\n",
    "    submit_by = data[(pd.to_datetime(data['Submit By Date']) < today) & \n",
    "                    (data['Status'].isin(['Open', 'Pending', 'Draft'])) &\n",
    "                    (~data['Ball In Court'].str.contains('P022', na = False))]\n",
    "    submit_by.to_excel(writer,\n",
    "                 sheet_name = 'Missed Submissions',\n",
    "                 index = False,\n",
    "                 startrow = 8)\n",
    "    submittal_log = writer.sheets['Missed Submissions']\n",
    "    excel_creator.generate_worksheet(submit_by, name, contractors[i], workbook, submittal_log)\n",
    "    \n",
    "\n",
    "    \n",
    "        \n",
    "    upcoming = data[(pd.to_datetime(data['Submit By Date']) > today) & \n",
    "                    (pd.to_datetime(data['Submit By Date']) < (today + datetime.timedelta(days=28))) &\n",
    "                    (data['Status'].isin(['Open', 'Pending', 'Draft']))]\n",
    "    upcoming.to_excel(writer,\n",
    "                 sheet_name = '4 Week Lookahead',\n",
    "                 index = False,\n",
    "                 startrow = 8)\n",
    "    submittal_log = writer.sheets['4 Week Lookahead']\n",
    "    excel_creator.generate_worksheet(submit_by, name, contractors[i], workbook, submittal_log)\n",
    "\n",
    "    \n",
    "    \n",
    "#     df2 = rev[rev['Responsible Contractor'] == contractors[i]]\n",
    "#     add_revision = df2.iloc[0:0]\n",
    "    \n",
    "#     for j in range(len(df2)):\n",
    "#     #print(rev.iloc[i, 1], rev.iloc[i, 6])\n",
    "#         title = df2.iloc[j, 1]\n",
    "#         revision = df2.iloc[j, 6]\n",
    "#         check = df1.loc[df1['#'] == title, 'Rev.']\n",
    "#         if not np.isclose(check, revision + 1).any():\n",
    "#             #print( f'{title} {revision}')\n",
    "#             add_revision = pd.concat([add_revision, df2.iloc[[j]]])\n",
    "            \n",
    "#     add_revision = procore_formatter.formatter(add_revision)\n",
    "    \n",
    "    \n",
    "    \n",
    "#     add_revision.to_excel(writer,\n",
    "#              sheet_name = 'R&R Missing',\n",
    "#              index = False,\n",
    "#              startrow = 8)\n",
    "#     submittal_log = writer.sheets['R&R Missing']\n",
    "#     excel_creator.generate_worksheet(add_revision, name, contractors[i], workbook, submittal_log)\n",
    "    \n",
    "    \n",
    "    \n",
    "#     df_co = data[data['Description'] == 'Closeouts']\n",
    "#     df_co.to_excel(writer,\n",
    "#                  sheet_name = '(Closeout) To be Corrected',\n",
    "#                  index = False,\n",
    "#                  startrow = 8)\n",
    "#     submittal_log = writer.sheets['(Closeout) To be Corrected']\n",
    "#     excel_creator.generate_worksheet(submit_by, name, contractors[i], workbook, submittal_log)\n",
    "    \n",
    "    \n",
    "    \n",
    "    \n",
    "    writer.close()\n",
    "    writer.handles = None\n",
    "\n",
    "    print(contractors[i])"
   ]
  },
  {
   "cell_type": "code",
   "execution_count": 11,
   "id": "675d227f",
   "metadata": {
    "scrolled": false
   },
   "outputs": [],
   "source": [
    "def open_submittals(df, location, description):\n",
    "    status = ['Open', 'Draft', 'Pending']\n",
    "    \n",
    "    open_df = df[df['Rev.'] == 0]\n",
    "    open_df = open_df[open_df['Status'].isin(status) &\n",
    "                  open_df['Location'].isin(location) &\n",
    "                  ~open_df['Ball In Court'].str.contains('P022', na = False)]\n",
    "    \n",
    "    if description != 'all':\n",
    "        open_df = open_df[open_df['Type'].isin(description)]\n",
    "    \n",
    "    return [open_df, open_df['Status'].count()]"
   ]
  },
  {
   "cell_type": "code",
   "execution_count": 12,
   "id": "42db90d7",
   "metadata": {
    "scrolled": true
   },
   "outputs": [
    {
     "name": "stderr",
     "output_type": "stream",
     "text": [
      "C:\\Users\\Kam Fong\\AppData\\Local\\Temp\\ipykernel_14740\\2975486550.py:2: SettingWithCopyWarning: \n",
      "A value is trying to be set on a copy of a slice from a DataFrame.\n",
      "Try using .loc[row_indexer,col_indexer] = value instead\n",
      "\n",
      "See the caveats in the documentation: https://pandas.pydata.org/pandas-docs/stable/user_guide/indexing.html#returning-a-view-versus-a-copy\n",
      "  test['Location'] = test['Phase']\n",
      "C:\\Users\\Kam Fong\\AppData\\Local\\Temp\\ipykernel_14740\\2975486550.py:3: SettingWithCopyWarning: \n",
      "A value is trying to be set on a copy of a slice from a DataFrame.\n",
      "Try using .loc[row_indexer,col_indexer] = value instead\n",
      "\n",
      "See the caveats in the documentation: https://pandas.pydata.org/pandas-docs/stable/user_guide/indexing.html#returning-a-view-versus-a-copy\n",
      "  test['Type'] = test['Description']\n"
     ]
    }
   ],
   "source": [
    "test = df[df['Responsible Contractor'] == 'Fred Geller Electric']\n",
    "test['Location'] = test['Phase']\n",
    "test['Type'] = test['Description']"
   ]
  },
  {
   "cell_type": "code",
   "execution_count": 13,
   "id": "e1fc38a4",
   "metadata": {},
   "outputs": [],
   "source": [
    "test2 = open_submittals(test, ['S'], not_closeout)"
   ]
  },
  {
   "cell_type": "code",
   "execution_count": 14,
   "id": "33ef87b4",
   "metadata": {},
   "outputs": [
    {
     "data": {
      "text/plain": [
       "24"
      ]
     },
     "execution_count": 14,
     "metadata": {},
     "output_type": "execute_result"
    }
   ],
   "source": [
    "test2[1]"
   ]
  },
  {
   "cell_type": "code",
   "execution_count": null,
   "id": "e8a27277",
   "metadata": {},
   "outputs": [],
   "source": []
  },
  {
   "cell_type": "code",
   "execution_count": 15,
   "id": "5623a3af",
   "metadata": {},
   "outputs": [
    {
     "name": "stdout",
     "output_type": "stream",
     "text": [
      "Delta CMT\n"
     ]
    }
   ],
   "source": [
    "    i = 1\n",
    "    data = df\n",
    "    name = \"master\"\n",
    "    \n",
    "    name_directory = directory + f'/{name}'\n",
    "    if not os.path.exists(name_directory):\n",
    "        os.mkdir(name_directory)\n",
    "        \n",
    "    writer = pd.ExcelWriter(f'{name_directory}/name CIL Log {date_folder}.xlsx', \n",
    "                        engine = 'xlsxwriter',\n",
    "                        date_format = 'mm-dd-yyyy', \n",
    "                        datetime_format='mm-dd-yyyy')\n",
    "    workbook = writer.book\n",
    "    \n",
    "    data.to_excel(writer,\n",
    "                 sheet_name = 'Submittals Master Log',\n",
    "                 index = False,\n",
    "                 startrow = 8)\n",
    "    submittal_log = writer.sheets['Submittals Master Log']\n",
    "    excel_creator.generate_worksheet(data, name, contractors[i], workbook, submittal_log)\n",
    "    \n",
    "    number_total_format = workbook.add_format({\n",
    "    'bold' : True,\n",
    "    'font_color' : 'black', \n",
    "    'font_size' : 11,\n",
    "    'font_name' : default_font, \n",
    "    'align' : 'center',\n",
    "    'valign' : 'vcenter', \n",
    "    'border' : 1,\n",
    "    'num_format' : '#,##0'\n",
    "    })\n",
    "\n",
    "    percent_format = workbook.add_format({\n",
    "        'bold' : False,\n",
    "        'font_color' : 'black', \n",
    "        'font_size' : 11,\n",
    "        'font_name' : default_font, \n",
    "        'align' : 'center',\n",
    "        'valign' : 'vcenter', \n",
    "        'border' : 1,\n",
    "        'num_format' : '0.00%'\n",
    "    })\n",
    "    \n",
    "    submittal_log.write('J1', 'North #')\n",
    "    submittal_log.write('K1', 'North %')\n",
    "    submittal_log.write('L1', 'South #')\n",
    "    submittal_log.write('M1', 'South %')\n",
    "    submittal_log.write('I2', 'Total')\n",
    "    submittal_log.write('I3', 'Open')\n",
    "    submittal_log.write('I4', 'Closeout')\n",
    "    submittal_log.write('I5', 'Design Team')\n",
    "    submittal_log.write('I6', 'R&R')\n",
    "    submittal_log.write('I7', 'R&R LEED')\n",
    "    submittal_log.write('I8', 'Closed')\n",
    "    \n",
    "    north_metrics = metrics.metrics(data, ['N', 'N/S'])\n",
    "    total = 0\n",
    "    for key in north_metrics:\n",
    "        total = total + north_metrics[key][1]\n",
    "    \n",
    "    submittal_log.write('J2', total, number_total_format)\n",
    "    if total == 0:\n",
    "        total = 1 \n",
    "        \n",
    "    row = 2\n",
    "    for key in north_metrics:\n",
    "        submittal_log.write(row, 9, north_metrics[key][1], number_total_format)\n",
    "        submittal_log.write(row, 10, north_metrics[key][1]/total, percent_format)\n",
    "        row = row + 1\n",
    "        \n",
    "        \n",
    "    south_metrics = metrics.metrics(data, ['S'])\n",
    "    total = 0\n",
    "    for key in south_metrics:\n",
    "        total = total + south_metrics[key][1]\n",
    "\n",
    "        \n",
    "    submittal_log.write('L2', total, number_total_format)\n",
    "    if total == 0:\n",
    "        total = 1  \n",
    "        \n",
    "    row = 2\n",
    "    for key in south_metrics:\n",
    "        submittal_log.write(row, 11, south_metrics[key][1], number_total_format)\n",
    "        submittal_log.write(row, 12, south_metrics[key][1]/total, percent_format)\n",
    "        row = row + 1\n",
    "        \n",
    "     \n",
    "    \n",
    "    \n",
    "    pending = data[(data['Status'].isin(['Open', 'Pending', 'Draft'])) &\n",
    "                (data['Ball In Court'].str.contains('P022', na = False))]\n",
    "    pending.to_excel(writer,\n",
    "                 sheet_name = 'Design Team Items',\n",
    "                 index = False,\n",
    "                 startrow = 8)\n",
    "    submittal_log = writer.sheets['Design Team Items']\n",
    "    excel_creator.generate_worksheet(pending, name, contractors[i], workbook, submittal_log)    \n",
    "    \n",
    "    \n",
    "    north = data[(data['Status'].isin(['Open', 'Pending', 'Draft'])) &\n",
    "                (data['Phase'].str.contains('N', na = False)) &\n",
    "                (~data['Ball In Court'].str.contains('P022', na = False))]\n",
    "    north.to_excel(writer,\n",
    "                 sheet_name = 'North Open Items',\n",
    "                 index = False,\n",
    "                 startrow = 8)\n",
    "    submittal_log = writer.sheets['North Open Items']\n",
    "    excel_creator.generate_worksheet(north, name, contractors[i], workbook, submittal_log)\n",
    "    \n",
    "    \n",
    "    \n",
    "    submit_by = data[(pd.to_datetime(data['Submit By Date']) < today) & \n",
    "                    (data['Status'].isin(['Open', 'Pending', 'Draft'])) &\n",
    "                    (~data['Ball In Court'].str.contains('P022', na = False))]\n",
    "    submit_by.to_excel(writer,\n",
    "                 sheet_name = 'Missed Submissions',\n",
    "                 index = False,\n",
    "                 startrow = 8)\n",
    "    submittal_log = writer.sheets['Missed Submissions']\n",
    "    excel_creator.generate_worksheet(submit_by, name, contractors[i], workbook, submittal_log)\n",
    "    \n",
    "\n",
    "    \n",
    "        \n",
    "    upcoming = data[(pd.to_datetime(data['Submit By Date']) > today) & \n",
    "                    (pd.to_datetime(data['Submit By Date']) < (today + datetime.timedelta(days=28))) &\n",
    "                    (data['Status'].isin(['Open', 'Pending', 'Draft']))]\n",
    "    upcoming.to_excel(writer,\n",
    "                 sheet_name = '4 Week Lookahead',\n",
    "                 index = False,\n",
    "                 startrow = 8)\n",
    "    submittal_log = writer.sheets['4 Week Lookahead']\n",
    "    excel_creator.generate_worksheet(submit_by, name, contractors[i], workbook, submittal_log)\n",
    "\n",
    "    \n",
    "    \n",
    "    df2 = rev[rev['Responsible Contractor'] == contractors[i]]\n",
    "    add_revision = df2.iloc[0:0]\n",
    "    \n",
    "    for j in range(len(df2)):\n",
    "    #print(rev.iloc[i, 1], rev.iloc[i, 6])\n",
    "        title = df2.iloc[j, 1]\n",
    "        revision = df2.iloc[j, 6]\n",
    "        check = df1.loc[df1['#'] == title, 'Rev.']\n",
    "        if not np.isclose(check, revision + 1).any():\n",
    "            #print( f'{title} {revision}')\n",
    "            add_revision = pd.concat([add_revision, df2.iloc[[j]]])\n",
    "            \n",
    "    add_revision = procore_formatter.formatter(add_revision)\n",
    "    \n",
    "    \n",
    "    \n",
    "    add_revision.to_excel(writer,\n",
    "             sheet_name = 'R&R Missing',\n",
    "             index = False,\n",
    "             startrow = 8)\n",
    "    submittal_log = writer.sheets['R&R Missing']\n",
    "    excel_creator.generate_worksheet(add_revision, name, contractors[i], workbook, submittal_log)\n",
    "    \n",
    "    \n",
    "    \n",
    "    df_co = data[data['Description'] == 'Closeouts']\n",
    "    df_co.to_excel(writer,\n",
    "                 sheet_name = '(Closeout) To be Corrected',\n",
    "                 index = False,\n",
    "                 startrow = 8)\n",
    "    submittal_log = writer.sheets['(Closeout) To be Corrected']\n",
    "    excel_creator.generate_worksheet(submit_by, name, contractors[i], workbook, submittal_log)\n",
    "    \n",
    "    \n",
    "    \n",
    "    \n",
    "    writer.close()\n",
    "    writer.handles = None\n",
    "\n",
    "    print(contractors[i])"
   ]
  },
  {
   "cell_type": "code",
   "execution_count": 16,
   "id": "90872ed2",
   "metadata": {},
   "outputs": [
    {
     "name": "stderr",
     "output_type": "stream",
     "text": [
      "C:\\anaconda3\\lib\\site-packages\\xlsxwriter\\workbook.py:338: UserWarning: Calling close() on already closed file.\n",
      "  warn(\"Calling close() on already closed file.\")\n"
     ]
    },
    {
     "ename": "AttributeError",
     "evalue": "'NoneType' object has no attribute 'close'",
     "output_type": "error",
     "traceback": [
      "\u001b[1;31m---------------------------------------------------------------------------\u001b[0m",
      "\u001b[1;31mAttributeError\u001b[0m                            Traceback (most recent call last)",
      "\u001b[1;32m~\\AppData\\Local\\Temp\\ipykernel_14740\\489930576.py\u001b[0m in \u001b[0;36m<module>\u001b[1;34m\u001b[0m\n\u001b[1;32m----> 1\u001b[1;33m \u001b[0mwriter\u001b[0m\u001b[1;33m.\u001b[0m\u001b[0mclose\u001b[0m\u001b[1;33m(\u001b[0m\u001b[1;33m)\u001b[0m\u001b[1;33m\u001b[0m\u001b[1;33m\u001b[0m\u001b[0m\n\u001b[0m\u001b[0;32m      2\u001b[0m \u001b[0mwriter\u001b[0m\u001b[1;33m.\u001b[0m\u001b[0mhandles\u001b[0m \u001b[1;33m=\u001b[0m \u001b[1;32mNone\u001b[0m\u001b[1;33m\u001b[0m\u001b[1;33m\u001b[0m\u001b[0m\n",
      "\u001b[1;32mC:\\anaconda3\\lib\\site-packages\\pandas\\io\\excel\\_base.py\u001b[0m in \u001b[0;36mclose\u001b[1;34m(self)\u001b[0m\n\u001b[0;32m   1023\u001b[0m         \u001b[1;34m\"\"\"synonym for save, to make it more file-like\"\"\"\u001b[0m\u001b[1;33m\u001b[0m\u001b[1;33m\u001b[0m\u001b[0m\n\u001b[0;32m   1024\u001b[0m         \u001b[0mcontent\u001b[0m \u001b[1;33m=\u001b[0m \u001b[0mself\u001b[0m\u001b[1;33m.\u001b[0m\u001b[0msave\u001b[0m\u001b[1;33m(\u001b[0m\u001b[1;33m)\u001b[0m\u001b[1;33m\u001b[0m\u001b[1;33m\u001b[0m\u001b[0m\n\u001b[1;32m-> 1025\u001b[1;33m         \u001b[0mself\u001b[0m\u001b[1;33m.\u001b[0m\u001b[0mhandles\u001b[0m\u001b[1;33m.\u001b[0m\u001b[0mclose\u001b[0m\u001b[1;33m(\u001b[0m\u001b[1;33m)\u001b[0m\u001b[1;33m\u001b[0m\u001b[1;33m\u001b[0m\u001b[0m\n\u001b[0m\u001b[0;32m   1026\u001b[0m         \u001b[1;32mreturn\u001b[0m \u001b[0mcontent\u001b[0m\u001b[1;33m\u001b[0m\u001b[1;33m\u001b[0m\u001b[0m\n\u001b[0;32m   1027\u001b[0m \u001b[1;33m\u001b[0m\u001b[0m\n",
      "\u001b[1;31mAttributeError\u001b[0m: 'NoneType' object has no attribute 'close'"
     ]
    }
   ],
   "source": [
    "    writer.close()\n",
    "    writer.handles = None"
   ]
  }
 ],
 "metadata": {
  "kernelspec": {
   "display_name": "Python 3 (ipykernel)",
   "language": "python",
   "name": "python3"
  },
  "language_info": {
   "codemirror_mode": {
    "name": "ipython",
    "version": 3
   },
   "file_extension": ".py",
   "mimetype": "text/x-python",
   "name": "python",
   "nbconvert_exporter": "python",
   "pygments_lexer": "ipython3",
   "version": "3.9.7"
  }
 },
 "nbformat": 4,
 "nbformat_minor": 5
}
