{
 "cells": [
  {
   "cell_type": "code",
   "execution_count": 6,
   "id": "57d7f98e",
   "metadata": {},
   "outputs": [],
   "source": [
    "import pandas as pd\n",
    "import numpy as np\n",
    "import datetime as datetime"
   ]
  },
  {
   "cell_type": "code",
   "execution_count": 7,
   "id": "3a2bfe33",
   "metadata": {},
   "outputs": [],
   "source": [
    "def open_submittals(df, location, description):\n",
    "    status = ['Open', 'Draft', 'Pending']\n",
    "    \n",
    "    open_df = df[df['Status'].isin(status) &\n",
    "                  df['Location'].isin(location) &\n",
    "                  ~df['Response'].str.contains('Revise', na = False) &\n",
    "                  ~df['Ball In Court'].str.contains('P022', na = False)]\n",
    "    \n",
    "    if description != 'all':\n",
    "        open_df = open_df[open_df['Type'].isin(description)]\n",
    "    \n",
    "    return [open_df, open_df['Status'].count()]"
   ]
  },
  {
   "cell_type": "code",
   "execution_count": 8,
   "id": "b830d36a",
   "metadata": {},
   "outputs": [],
   "source": [
    "def closed_submittals(df, location, description):\n",
    "    status = ['Closed', 'Void', 'Superseded']\n",
    "    \n",
    "    close_df = df[df['Status'].isin(status) &\n",
    "                  df['Location'].isin(location)]\n",
    "        \n",
    "    if description != 'all':\n",
    "        close_df = close_df[close_df['Type'].isin(description)]\n",
    "\n",
    "    return [close_df, close_df['Status'].count()]   "
   ]
  },
  {
   "cell_type": "code",
   "execution_count": 9,
   "id": "2b962d71",
   "metadata": {},
   "outputs": [],
   "source": [
    "def design_team(df, location, description):\n",
    "    \n",
    "    dt_df = df[df['Ball In Court'].str.contains('P022', na = False) &\n",
    "                     df['Response'].str.contains('Pending') &\n",
    "                     df['Location'].isin(location)]\n",
    "    \n",
    "    if description != 'all':\n",
    "        \n",
    "        dt_df = dt_df[df_dt['Type'].isin(description)]\n",
    "        \n",
    "    return [dt_df, dt_df['Status'].count()]"
   ]
  },
  {
   "cell_type": "code",
   "execution_count": 10,
   "id": "d5c1e013",
   "metadata": {},
   "outputs": [],
   "source": [
    "def revise_resubmit(df, location, description):\n",
    "    \n",
    "    status = ['Open', 'Draft', 'Pending']\n",
    "    \n",
    "    revise_df = df[df['Status'].isin(status) &\n",
    "                   df['Response'].str.contains('Revise') &\n",
    "                  ~df['Ball In Court'].str.contains('P022', na = False)]\n",
    "    \n",
    "    if description != 'all':\n",
    "        \n",
    "        revise_df = revise_df[revise_dt['Type'].isin(description)]\n",
    "        \n",
    "    return [revise_df, revise_df['Status'].count()]"
   ]
  },
  {
   "cell_type": "markdown",
   "id": "45b1a2a4",
   "metadata": {},
   "source": [
    "df = pd.read_csv('submittal_logs.csv')"
   ]
  },
  {
   "cell_type": "markdown",
   "id": "10d4ca06",
   "metadata": {},
   "source": [
    "locations = df['Location'].unique()\n",
    "location_south = ['Concourse F South Building']\n",
    "location_north = np.delete(locations, np.where(locations == location_south))\n",
    "print(locations)"
   ]
  },
  {
   "cell_type": "markdown",
   "id": "76bb2348",
   "metadata": {},
   "source": [
    "closed = closed_submittals(df, locations, 'all')\n",
    "closed[1]"
   ]
  },
  {
   "cell_type": "markdown",
   "id": "4f2ad516",
   "metadata": {},
   "source": [
    "types = df['Type'].unique()\n",
    "\n",
    "closeout = ['As-Built',\n",
    "           'Attic Stock',\n",
    "           'Certificate of Substantial Completion',\n",
    "           'Certificate of Final Completion',\n",
    "           'Closeouts',\n",
    "           'O&M Manual',\n",
    "           'Product Manual',\n",
    "           'Record Documents',\n",
    "           'Spare Parts List',\n",
    "           'Training Material',\n",
    "           'Warranty / Guarantee']\n",
    "\n",
    "not_closeout = [x for x in types if x not in closeout]\n"
   ]
  },
  {
   "cell_type": "markdown",
   "id": "769cd319",
   "metadata": {},
   "source": [
    "num_open = open_submittals(df, location_north, not_closeout)\n",
    "num_open[1]"
   ]
  },
  {
   "cell_type": "markdown",
   "id": "3965dce5",
   "metadata": {},
   "source": [
    "closeout = open_submittals(df, location_north, closeout)\n",
    "closeout[1]"
   ]
  },
  {
   "cell_type": "markdown",
   "id": "b55df48d",
   "metadata": {},
   "source": [
    "num_open_south = open_submittals(df, location_south, 'all')\n",
    "num_open_south[1]"
   ]
  },
  {
   "cell_type": "markdown",
   "id": "d8fd3ba7",
   "metadata": {},
   "source": [
    "test = {'open' : ['N/A',1] ,\n",
    "       'closed' : 'N/A'}"
   ]
  },
  {
   "cell_type": "markdown",
   "id": "05c334ab",
   "metadata": {},
   "source": [
    "test['open'][0] = 1"
   ]
  },
  {
   "cell_type": "markdown",
   "id": "b2381a11",
   "metadata": {},
   "source": [
    "test"
   ]
  }
 ],
 "metadata": {
  "kernelspec": {
   "display_name": "Python 3 (ipykernel)",
   "language": "python",
   "name": "python3"
  },
  "language_info": {
   "codemirror_mode": {
    "name": "ipython",
    "version": 3
   },
   "file_extension": ".py",
   "mimetype": "text/x-python",
   "name": "python",
   "nbconvert_exporter": "python",
   "pygments_lexer": "ipython3",
   "version": "3.9.12"
  }
 },
 "nbformat": 4,
 "nbformat_minor": 5
}
