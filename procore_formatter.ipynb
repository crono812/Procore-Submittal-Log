{
 "cells": [
  {
   "cell_type": "code",
   "execution_count": 1,
   "id": "cba65602",
   "metadata": {},
   "outputs": [],
   "source": [
    "import pandas as pd\n",
    "import numpy as np\n",
    "from datetime import datetime\n",
    "import os"
   ]
  },
  {
   "cell_type": "code",
   "execution_count": null,
   "id": "d0884c8b",
   "metadata": {},
   "outputs": [],
   "source": [
    "df = pd.read_csv('submittal_logs.csv')\n",
    "df.columns\n",
    "df['Location'].unique()"
   ]
  },
  {
   "cell_type": "code",
   "execution_count": 5,
   "id": "c64e9b25",
   "metadata": {},
   "outputs": [],
   "source": [
    "def phase(location):\n",
    "\n",
    "    location_north = ['Concourse F North Building', \n",
    "                      'Temporary Connector',\n",
    "                       'Temporary Connector>Temporary Corridor',\n",
    "                       'Concourse F North Building>Temp connector',\n",
    "                       'Superstructure>Termporary Conn.']\n",
    "\n",
    "    location_south = ['Concourse F South Building']\n",
    "    \n",
    "    if location in location_north:\n",
    "        return 'N'\n",
    "    elif location in location_south:\n",
    "        return 'S'\n",
    "    else:\n",
    "        return 'N/S'"
   ]
  },
  {
   "cell_type": "code",
   "execution_count": 6,
   "id": "db3a9120",
   "metadata": {},
   "outputs": [],
   "source": [
    "def pc(spec):\n",
    "    if 'TC' in spec:\n",
    "        return 'TC'\n",
    "    elif 'PT' in spec:\n",
    "        return 'PT'\n",
    "    elif 'AS' in spec:\n",
    "        return 'AS'\n",
    "    elif 'PFSS' in spec:\n",
    "        return 'PFSS'\n",
    "    else:\n",
    "        return 'CSFO'"
   ]
  },
  {
   "cell_type": "code",
   "execution_count": 7,
   "id": "f9b95b45",
   "metadata": {},
   "outputs": [],
   "source": [
    "def dis_date(date):\n",
    "    if len(date) > 4:\n",
    "        return date[:10]\n",
    "    else:\n",
    "        return np.nan"
   ]
  },
  {
   "cell_type": "code",
   "execution_count": 8,
   "id": "fba1e871",
   "metadata": {},
   "outputs": [],
   "source": [
    "def clean_date(date):\n",
    "    if '\\n' in date:\n",
    "        return max(date.split('\\n'))\n",
    "    \n",
    "    elif '<br />' in date:\n",
    "        return max(date.split('<br />'))\n",
    "    \n",
    "    else:\n",
    "        return date"
   ]
  },
  {
   "cell_type": "code",
   "execution_count": 9,
   "id": "2ba5f21f",
   "metadata": {},
   "outputs": [],
   "source": [
    "dropped_columns = ['Package #', 'Description', 'Cost Code', 'Received From', 'Created At', 'Updated At', 'Final Due Date', \n",
    "                  'Issue Date', 'Planned Return Date', 'Design Team Review Time', 'Planned Internal Review Completed Date',\n",
    "                  'Internal Review Time', 'Anticipated Delivery Date', 'Confirmed Delivery Date', 'Actual Delivery Date',\n",
    "                  'Planned Submit By Date', 'Approvers', 'Sent Date', 'Reference Drawing:', 'Unnamed: 36', 'Due Date']\n",
    "\n",
    "df = df.drop(labels = dropped_columns, axis = 1)"
   ]
  },
  {
   "cell_type": "code",
   "execution_count": 12,
   "id": "923eff4b",
   "metadata": {},
   "outputs": [],
   "source": [
    "df['PC'] = df['#'].apply(pc)\n",
    "df['Phase'] = df['Location'].apply(phase)\n",
    "df['Specification'] = df['Spec Section'].astype('str')\n",
    "df['Specification'] = df['Specification'].apply(lambda spec: spec[:8])\n",
    "df['Submittal Number'] = df['#'].apply(lambda num: num.split('-')[-1])\n",
    "df['Distributed Date'] = df['Distributed Date'].astype('str')\n",
    "df['Approved Date'] = df['Distributed Date'].apply(dis_date)\n",
    "df['Submitted Date'] = 'NaN'\n",
    "df['Resubmit Date'] = 'NaN'\n",
    "df['Resubmit Approved Date'] = 'NaN'\n"
   ]
  },
  {
   "cell_type": "code",
   "execution_count": 14,
   "id": "a7ce6ddb",
   "metadata": {},
   "outputs": [],
   "source": [
    "dates = ['Received Date', 'Required On Site Date', 'Submit By', 'Returned Date']\n",
    "\n",
    "for i in range(len(dates)):\n",
    "    df[dates[i]] = df[dates[i]].astype('str')\n",
    "    df[dates[i]] = df[dates[i]].apply(clean_date)"
   ]
  },
  {
   "cell_type": "code",
   "execution_count": 15,
   "id": "4657de88",
   "metadata": {},
   "outputs": [],
   "source": [
    "rename = {\n",
    "    'Title' : 'Submittal Title',\n",
    "    'Type' : 'Description', \n",
    "    'Required On Site Date' : 'ROJ Date',\n",
    "    'Submit By' : 'Submit By Date'\n",
    "}\n",
    "\n",
    "df = df.rename(columns = rename)"
   ]
  },
  {
   "cell_type": "code",
   "execution_count": 16,
   "id": "d0770c31",
   "metadata": {},
   "outputs": [],
   "source": [
    "df = df.replace('NaN', np.nan)\n",
    "df = df.replace('nan', np.nan)"
   ]
  },
  {
   "cell_type": "code",
   "execution_count": 19,
   "id": "46885cd4",
   "metadata": {},
   "outputs": [
    {
     "data": {
      "text/plain": [
       "Index(['Spec Section', '#', 'Submittal Title', 'Description', 'Rev.',\n",
       "       'Responsible Contractor', 'Location', 'Received Date', 'ROJ Date',\n",
       "       'Lead Time', 'Submit By Date', 'Returned Date', 'Response',\n",
       "       'Ball In Court', 'Status', 'Distributed Date', 'PC', 'Phase',\n",
       "       'Specification', 'Submittal Number', 'Approved Date', 'Submitted Date',\n",
       "       'Resubmit Date', 'Resubmit Approved Date'],\n",
       "      dtype='object')"
      ]
     },
     "execution_count": 19,
     "metadata": {},
     "output_type": "execute_result"
    }
   ],
   "source": [
    "df.columns"
   ]
  },
  {
   "cell_type": "code",
   "execution_count": 24,
   "id": "848f9182",
   "metadata": {},
   "outputs": [
    {
     "name": "stdout",
     "output_type": "stream",
     "text": [
      "Error in Submit By Date\n"
     ]
    }
   ],
   "source": [
    "dates = ['Submit By Date', 'ROJ Date', 'Returned Date', 'Distributed Date', 'Approved Date', 'Submitted Date', 'Resubmit Date', 'Resubmit Approved Date']\n",
    "\n",
    "for i in range(len(dates)):\n",
    "    try:\n",
    "        df[dates[i]] = pd.to_datetime(df[dates[i]])\n",
    "    except:\n",
    "        print(f'Error in {dates[i]}')"
   ]
  },
  {
   "cell_type": "code",
   "execution_count": null,
   "id": "19d01aaa",
   "metadata": {},
   "outputs": [],
   "source": []
  }
 ],
 "metadata": {
  "kernelspec": {
   "display_name": "Python 3 (ipykernel)",
   "language": "python",
   "name": "python3"
  },
  "language_info": {
   "codemirror_mode": {
    "name": "ipython",
    "version": 3
   },
   "file_extension": ".py",
   "mimetype": "text/x-python",
   "name": "python",
   "nbconvert_exporter": "python",
   "pygments_lexer": "ipython3",
   "version": "3.9.12"
  }
 },
 "nbformat": 4,
 "nbformat_minor": 5
}
